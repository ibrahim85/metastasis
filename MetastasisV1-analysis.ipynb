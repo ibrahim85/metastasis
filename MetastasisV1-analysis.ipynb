{
 "metadata": {
  "name": "MetastasisV1-analysis"
 },
 "nbformat": 3,
 "nbformat_minor": 0,
 "worksheets": [
  {
   "cells": [
    {
     "cell_type": "markdown",
     "metadata": {},
     "source": [
      "# Plotting Shared and Private Mutations\n",
      "\n",
      "- This script will plot the number of shared mutations and number of private mutations vs distance between cells.\n",
      "- The code takes a while to run\n",
      "- `pp.execute()` will take \u2248250 seconds to run for \u2248600 cells\n",
      "- The plotting will take \u2248125 seconds each.\n"
     ]
    },
    {
     "cell_type": "code",
     "collapsed": false,
     "input": [
      "from cc3dtools.GenomeCompare import GenomeCompare\n",
      "from cc3dtools.Lineage import MultiLineage\n",
      "from cc3dtools.PostProcess import spatial_plot, PostProcess"
     ],
     "language": "python",
     "metadata": {},
     "outputs": [],
     "prompt_number": 1
    },
    {
     "cell_type": "code",
     "collapsed": false,
     "input": [
      "gc = GenomeCompare.from_gen_file('./data3/genomes_Tue_Jun_16_12:23:54_2015.csv')\n",
      "ml = MultiLineage('./data3/division_events_Tue_Jun_16_12:23:54_2015.csv')\n",
      "def spl():\n",
      "    spatial_plot(start_file='./data3/start_cells_Tue_Jun_16_12:23:54_2015.csv', end_file='./data3/finish_cells_Tue_Jun_16_12:23:54_2015.csv', projection='2d')\n",
      "pp = PostProcess('./data3/finish_cells_Tue_Jun_16_12:23:54_2015.csv', gc=gc)"
     ],
     "language": "python",
     "metadata": {},
     "outputs": [],
     "prompt_number": 2
    },
    {
     "cell_type": "code",
     "collapsed": false,
     "input": [
      "pp.execute()"
     ],
     "language": "python",
     "metadata": {},
     "outputs": [
      {
       "output_type": "stream",
       "stream": "stdout",
       "text": [
        "start time: 1434567142.31\n",
        "Completed\n",
        " Total Number of comparisons:175528"
       ]
      },
      {
       "output_type": "stream",
       "stream": "stdout",
       "text": [
        "\n",
        "Number of cells 592\n",
        "Total Time:220.437772036s\n"
       ]
      }
     ],
     "prompt_number": 3
    },
    {
     "cell_type": "code",
     "collapsed": false,
     "input": [
      "import matplotlib.pyplot as plt\n",
      "import numpy as np\n",
      "import random\n",
      "\n",
      "# some helper methods\n",
      "def det_col(x , y):\n",
      "    # determines the color\n",
      "    if x in (2,3) and y in (2,3):\n",
      "        # both cancerous\n",
      "        return 'g'\n",
      "    if x == 1 and y == 1:\n",
      "        # both non-cancerous\n",
      "        return 'r'\n",
      "    # combination of cancerous and non-cancerous\n",
      "    return 'w'\n",
      "\n",
      "def converter ( x, y, z):\n",
      "    # adds a string and an int in between a series of arguments\n",
      "    return (x, y, 5, z, 'x')\n"
     ],
     "language": "python",
     "metadata": {},
     "outputs": [],
     "prompt_number": 8
    },
    {
     "cell_type": "code",
     "collapsed": false,
     "input": [
      "print len(pp._distances)\n",
      "print len(pp._distances) - len(pp._shared)\n",
      "print len(pp._distances) - len(pp._private)\n",
      "print len(pp._distances) - len(pp._proportion)"
     ],
     "language": "python",
     "metadata": {},
     "outputs": [
      {
       "output_type": "stream",
       "stream": "stdout",
       "text": [
        "176120\n",
        "592\n",
        "592\n",
        "592\n"
       ]
      }
     ],
     "prompt_number": 4
    },
    {
     "cell_type": "code",
     "collapsed": false,
     "input": [
      "#plt.figure()\n",
      "\n",
      "#plt.xlabel('Distance')\n",
      "#plt.ylabel('Number of Shared Mutations')\n",
      "#plt.title('Distance vs. # Shared Mutations for All Genomes Sampled')\n",
      "#plt.show()"
     ],
     "language": "python",
     "metadata": {},
     "outputs": [],
     "prompt_number": 14
    },
    {
     "cell_type": "code",
     "collapsed": false,
     "input": [],
     "language": "python",
     "metadata": {},
     "outputs": [],
     "prompt_number": 6
    },
    {
     "cell_type": "code",
     "collapsed": false,
     "input": [
      "selection = random.sample( pp.dist_vs_private , int( len(pp.dist_vs_private) / 10.0 ) )\n",
      "selection = map( lambda x: (x[0], x[1], det_col( x[2], x[3] ) ), selection)\n",
      "\n",
      "plt.figure()\n",
      "plt.scatter(*converter(*zip(*selection)))\n",
      "plt.show()"
     ],
     "language": "python",
     "metadata": {},
     "outputs": [],
     "prompt_number": 9
    },
    {
     "cell_type": "code",
     "collapsed": false,
     "input": [
      "selection = random.sample( pp.dist_vs_proportion , int( len(pp.dist_vs_proportion) / 10.0 ) )\n",
      "selection = map( lambda x: (x[0], x[1], det_col( x[2], x[3] ) ) if det_col( x[2], x[3] ) !='w' else (0,0,'w') , selection)\n",
      "\n",
      "plt.figure()\n",
      "plt.scatter(*converter(*zip(*selection)))\n",
      "plt.show()"
     ],
     "language": "python",
     "metadata": {},
     "outputs": [],
     "prompt_number": 21
    },
    {
     "cell_type": "code",
     "collapsed": false,
     "input": [
      "plt.figure()\n",
      "plt.plot( pp._distance , pp._shared , detCol( pp._type1 , pp._type2 ) )    \n",
      "\n",
      "plt.xlabel('Distance')\n",
      "plt.ylabel('Number of Private Mutations')\n",
      "plt.title('Distance vs. # Private Mutations for All Genomes Sampled')\n",
      "plt.show()"
     ],
     "language": "python",
     "metadata": {},
     "outputs": [
      {
       "ename": "AttributeError",
       "evalue": "'PostProcess' object has no attribute '_distance'",
       "output_type": "pyerr",
       "traceback": [
        "\u001b[0;31m---------------------------------------------------------------------------\u001b[0m\n\u001b[0;31mAttributeError\u001b[0m                            Traceback (most recent call last)",
        "\u001b[0;32m<ipython-input-13-9e23487c92cf>\u001b[0m in \u001b[0;36m<module>\u001b[0;34m()\u001b[0m\n\u001b[1;32m      1\u001b[0m \u001b[0mplt\u001b[0m\u001b[0;34m.\u001b[0m\u001b[0mfigure\u001b[0m\u001b[0;34m(\u001b[0m\u001b[0;34m)\u001b[0m\u001b[0;34m\u001b[0m\u001b[0m\n\u001b[0;32m----> 2\u001b[0;31m \u001b[0mplt\u001b[0m\u001b[0;34m.\u001b[0m\u001b[0mplot\u001b[0m\u001b[0;34m(\u001b[0m \u001b[0mpp\u001b[0m\u001b[0;34m.\u001b[0m\u001b[0m_distance\u001b[0m \u001b[0;34m,\u001b[0m \u001b[0mpp\u001b[0m\u001b[0;34m.\u001b[0m\u001b[0m_shared\u001b[0m \u001b[0;34m,\u001b[0m \u001b[0mdetCol\u001b[0m\u001b[0;34m(\u001b[0m \u001b[0mpp\u001b[0m\u001b[0;34m.\u001b[0m\u001b[0m_type1\u001b[0m \u001b[0;34m,\u001b[0m \u001b[0mpp\u001b[0m\u001b[0;34m.\u001b[0m\u001b[0m_type2\u001b[0m \u001b[0;34m)\u001b[0m \u001b[0;34m)\u001b[0m\u001b[0;34m\u001b[0m\u001b[0m\n\u001b[0m\u001b[1;32m      3\u001b[0m \u001b[0;34m\u001b[0m\u001b[0m\n\u001b[1;32m      4\u001b[0m \u001b[0mplt\u001b[0m\u001b[0;34m.\u001b[0m\u001b[0mxlabel\u001b[0m\u001b[0;34m(\u001b[0m\u001b[0;34m'Distance'\u001b[0m\u001b[0;34m)\u001b[0m\u001b[0;34m\u001b[0m\u001b[0m\n\u001b[1;32m      5\u001b[0m \u001b[0mplt\u001b[0m\u001b[0;34m.\u001b[0m\u001b[0mylabel\u001b[0m\u001b[0;34m(\u001b[0m\u001b[0;34m'Number of Private Mutations'\u001b[0m\u001b[0;34m)\u001b[0m\u001b[0;34m\u001b[0m\u001b[0m\n",
        "\u001b[0;31mAttributeError\u001b[0m: 'PostProcess' object has no attribute '_distance'"
       ]
      }
     ],
     "prompt_number": 13
    },
    {
     "cell_type": "markdown",
     "metadata": {},
     "source": [
      "------------------"
     ]
    },
    {
     "cell_type": "code",
     "collapsed": false,
     "input": [
      "plt.close()\n",
      "plt.figure()"
     ],
     "language": "python",
     "metadata": {},
     "outputs": [
      {
       "output_type": "pyout",
       "prompt_number": 10,
       "text": [
        "<matplotlib.figure.Figure at 0x108fb6f90>"
       ]
      }
     ],
     "prompt_number": 10
    },
    {
     "cell_type": "code",
     "collapsed": false,
     "input": [
      "assert len(pp.dist_vs_private) == len(pp.dist_vs_shared) , 'number of entries must be the same!'\n",
      "assert pp.dist_vs_private[19][0] == pp.dist_vs_shared[19][0] , 'all entries must have the same distances'"
     ],
     "language": "python",
     "metadata": {},
     "outputs": [],
     "prompt_number": 16
    },
    {
     "cell_type": "code",
     "collapsed": false,
     "input": [
      "# not necessary right now\n",
      "\n",
      "#for i in xrange( len(pp.dis) ):\n",
      "#    p = pp.dist_vs_private[i][1]\n",
      "#    s = pp.dist_vs_shared[i][1]\n",
      "#    d = pp.dist_vs_shared[i][0]\n",
      "#    \n",
      "#    prepared = ( d , s / float( s + p ) )\n",
      "#    correlations.append(prepared)"
     ],
     "language": "python",
     "metadata": {},
     "outputs": [],
     "prompt_number": 18
    },
    {
     "cell_type": "code",
     "collapsed": false,
     "input": [],
     "language": "python",
     "metadata": {},
     "outputs": []
    }
   ],
   "metadata": {}
  }
 ]
}