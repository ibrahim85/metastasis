{
 "metadata": {
  "name": "tst-colors"
 },
 "nbformat": 3,
 "nbformat_minor": 0,
 "worksheets": [
  {
   "cells": [
    {
     "cell_type": "code",
     "collapsed": false,
     "input": [
      "import matplotlib.pyplot as plt\n",
      "import numpy as np"
     ],
     "language": "python",
     "metadata": {},
     "outputs": [],
     "prompt_number": 2
    },
    {
     "cell_type": "code",
     "collapsed": false,
     "input": [
      "def discrete_cmap(N, base_cmap='prism'):\n",
      "    \"\"\" generate a shuffled discrete color map of size N based on @param base_cmap\"\"\"\n",
      " \t# from: https://gist.github.com/jakevdp/91077b0cae40f8f8244a\n",
      "    base = plt.cm.get_cmap(base_cmap) # get the base\n",
      "    color_raw = np.linspace(0, 1, N) # generate some random colors\n",
      "    np.random.shuffle(color_raw) # shuffle it\n",
      "    color_list = base(color_raw) # turn them into colors\n",
      "    cmap_name = base.name + str(N) # give it a random name\n",
      "    return base.from_list(cmap_name, color_list, N) #return it!\n"
     ],
     "language": "python",
     "metadata": {},
     "outputs": [],
     "prompt_number": 14
    },
    {
     "cell_type": "code",
     "collapsed": false,
     "input": [
      "# generate a color map:\n",
      "cmap = discrete_cmap(10)"
     ],
     "language": "python",
     "metadata": {},
     "outputs": [],
     "prompt_number": 19
    },
    {
     "cell_type": "code",
     "collapsed": false,
     "input": [
      "from collections import Counter\n",
      "x = Counter()"
     ],
     "language": "python",
     "metadata": {},
     "outputs": [],
     "prompt_number": 30
    },
    {
     "cell_type": "code",
     "collapsed": false,
     "input": [
      "for i in range(100):\n",
      "    x.update(cmap(i/100.))"
     ],
     "language": "python",
     "metadata": {},
     "outputs": [],
     "prompt_number": 31
    },
    {
     "cell_type": "code",
     "collapsed": false,
     "input": [
      "x.most_common()"
     ],
     "language": "python",
     "metadata": {},
     "outputs": [
      {
       "output_type": "pyout",
       "prompt_number": 32,
       "text": [
        "[(1.0, 160),\n",
        " (0.0, 110),\n",
        " (0.43544722401426117, 10),\n",
        " (0.91285947109272936, 10),\n",
        " (0.99760572179788731, 10),\n",
        " (0.80556652275826957, 10),\n",
        " (0.30274806408914412, 10),\n",
        " (0.98700731567565492, 10),\n",
        " (0.22870285989954603, 10),\n",
        " (0.47098977489571847, 10),\n",
        " (0.32950712519534231, 10),\n",
        " (0.41247217154760452, 10),\n",
        " (0.99825489314128002, 10),\n",
        " (0.19800970671262441, 10),\n",
        " (0.99974691785999292, 10)]"
       ]
      }
     ],
     "prompt_number": 32
    },
    {
     "cell_type": "code",
     "collapsed": false,
     "input": [],
     "language": "python",
     "metadata": {},
     "outputs": []
    }
   ],
   "metadata": {}
  }
 ]
}