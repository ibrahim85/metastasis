{
 "metadata": {
  "name": "MetastasisV1-analysis2"
 },
 "nbformat": 3,
 "nbformat_minor": 0,
 "worksheets": [
  {
   "cells": [
    {
     "cell_type": "markdown",
     "metadata": {},
     "source": [
      "# Plotting Cluster progression\n",
      "\n",
      "- This script will .\n",
      "- The code takes a while to run\n",
      "- `pp.execute()` will take \u2248250 seconds to run for \u2248600 cells\n",
      "- The plotting will take \u2248125 seconds each.\n"
     ]
    },
    {
     "cell_type": "code",
     "collapsed": false,
     "input": [
      "from cc3dtools.GenomeCompare import GenomeCompare\n",
      "from cc3dtools.Lineage import MultiLineage, lineage_bfs\n",
      "from cc3dtools.PostProcess import SpacePlot"
     ],
     "language": "python",
     "metadata": {},
     "outputs": [],
     "prompt_number": 1
    },
    {
     "cell_type": "code",
     "collapsed": false,
     "input": [
      "gc = GenomeCompare.from_gen_file('./data3/genomes_Tue_Jun_16_12:23:54_2015.csv')\n",
      "ml = MultiLineage('./data3/division_events_Tue_Jun_16_12:23:54_2015.csv')\n",
      "sp = SpacePlot(start_file='./data3/start_cells_Tue_Jun_16_12:23:54_2015.csv', end_file='./data3/finish_cells_Tue_Jun_16_12:23:54_2015.csv', projection='2d')"
     ],
     "language": "python",
     "metadata": {},
     "outputs": [],
     "prompt_number": 2
    },
    {
     "cell_type": "code",
     "collapsed": false,
     "input": [
      "#for lineage in ml.lineages:\n",
      "#    levels = lineage_bfs( lineage['lineage'] )\n",
      "#    for _, level in levels.items():\n",
      "#        sp.plot_selecte(*level)"
     ],
     "language": "python",
     "metadata": {},
     "outputs": [],
     "prompt_number": 3
    },
    {
     "cell_type": "code",
     "collapsed": false,
     "input": [
      "levels = lineage_bfs(ml.lineages[9]['lineage'])\n",
      "\n",
      "#sorted_levels = sorted(levels.items(), key= lambda x: x[0])\n",
      "for depth, level in levels.items():\n",
      "    sp.plot_selected(*level, depth=depth )"
     ],
     "language": "python",
     "metadata": {},
     "outputs": [],
     "prompt_number": 4
    },
    {
     "cell_type": "code",
     "collapsed": false,
     "input": [
      "len(list(levels.items())[-1][1])"
     ],
     "language": "python",
     "metadata": {},
     "outputs": [
      {
       "output_type": "pyout",
       "prompt_number": 18,
       "text": [
        "900"
       ]
      }
     ],
     "prompt_number": 18
    },
    {
     "cell_type": "code",
     "collapsed": false,
     "input": [],
     "language": "python",
     "metadata": {},
     "outputs": []
    }
   ],
   "metadata": {}
  }
 ]
}