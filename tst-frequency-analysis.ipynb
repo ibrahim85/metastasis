{
 "metadata": {
  "name": "tst-frequency-analysis"
 },
 "nbformat": 3,
 "nbformat_minor": 0,
 "worksheets": [
  {
   "cells": [
    {
     "cell_type": "code",
     "collapsed": false,
     "input": [
      "from cc3dtools.GenomeCompare import GenomeCompare\n",
      "from cc3dtools.PostProcess import PostProcess, SpacePlot\n",
      "from cc3dtools.Lineage import MultiLineage, lineage_bfs\n",
      "import matplotlib.pyplot as plt"
     ],
     "language": "python",
     "metadata": {},
     "outputs": [],
     "prompt_number": 1
    },
    {
     "cell_type": "code",
     "collapsed": false,
     "input": [
      "sp = SpacePlot(start_file='./newdata/start_cells_Tue_Jun_23_11:54:16_2015.csv', end_file='./newdata/finish_cells_Tue_Jun_23_11:54:16_2015.csv', projection='2d')\n",
      "#ml = MultiLineage(file_name='./newdata/division_events_Tue_Jun_23_11:54:16_2015.csv')\n",
      "gc = GenomeCompare.from_gen_file('./newdata/genomes_Tue_Jun_23_11:54:16_2015.csv')\n",
      "pp = PostProcess(end_file='./small_data/finish_cells_Thu_Jun_18_14:37:05_2015.csv', gc=gc)"
     ],
     "language": "python",
     "metadata": {},
     "outputs": [],
     "prompt_number": 2
    },
    {
     "cell_type": "code",
     "collapsed": false,
     "input": [
      "sp.plot_all(hide_numbers=False)"
     ],
     "language": "python",
     "metadata": {},
     "outputs": []
    },
    {
     "cell_type": "code",
     "collapsed": false,
     "input": [
      "import numpy as np\n",
      "returned = pp.frequency_analyze( list( np.random.choice(pp.cells_available, 20) ) )\n",
      "print returned"
     ],
     "language": "python",
     "metadata": {},
     "outputs": [
      {
       "output_type": "stream",
       "stream": "stdout",
       "text": [
        "Counter({1: 5212, 2: 609, 3: 445, 4: 140, 7: 122})\n"
       ]
      }
     ],
     "prompt_number": 8
    },
    {
     "cell_type": "code",
     "collapsed": false,
     "input": [
      "pp.frequency_analyze( [102,207,29,246, 292, 239, 291, 253, 149, 299,324,303,43] )"
     ],
     "language": "python",
     "metadata": {},
     "outputs": [
      {
       "output_type": "pyout",
       "prompt_number": 9,
       "text": [
        "Counter({2: 1212, 1: 920, 9: 634, 3: 267, 4: 263, 5: 241, 11: 230})"
       ]
      }
     ],
     "prompt_number": 9
    },
    {
     "cell_type": "code",
     "collapsed": false,
     "input": [
      "pp.frequency_analyze( [6,9] ) "
     ],
     "language": "python",
     "metadata": {},
     "outputs": [
      {
       "output_type": "pyout",
       "prompt_number": 10,
       "text": [
        "Counter({1: 290})"
       ]
      }
     ],
     "prompt_number": 10
    },
    {
     "cell_type": "code",
     "collapsed": false,
     "input": [
      "# do calculations separately\n",
      "len(gc.get_by_name(6).get_mutated_loci()) + len(gc.get_by_name(9).get_mutated_loci())"
     ],
     "language": "python",
     "metadata": {},
     "outputs": [
      {
       "output_type": "pyout",
       "prompt_number": 11,
       "text": [
        "290"
       ]
      }
     ],
     "prompt_number": 11
    },
    {
     "cell_type": "code",
     "collapsed": false,
     "input": [
      "y, x = zip(*pp.frequency_analyze( [ 201,302,236,171,98,178,298 ] ).items())\n",
      "print y,x"
     ],
     "language": "python",
     "metadata": {},
     "outputs": [
      {
       "output_type": "stream",
       "stream": "stdout",
       "text": [
        "(1, 2, 3, 5, 7) (321, 890, 129, 218, 742)\n"
       ]
      }
     ],
     "prompt_number": 14
    },
    {
     "cell_type": "code",
     "collapsed": false,
     "input": [
      "plt.figure()\n",
      "plt.plot(x,y, 'o')\n",
      "plt.xlabel('# of mutations shared')\n",
      "plt.ylabel('# of cells sharing that # of mutations')\n",
      "plt.title('( # of cells in cluster that share that many mutations ) VS ( # of shared mutations )')\n",
      "plt.show()"
     ],
     "language": "python",
     "metadata": {},
     "outputs": [],
     "prompt_number": 15
    },
    {
     "cell_type": "code",
     "collapsed": false,
     "input": [],
     "language": "python",
     "metadata": {},
     "outputs": [],
     "prompt_number": 33
    },
    {
     "cell_type": "code",
     "collapsed": false,
     "input": [],
     "language": "python",
     "metadata": {},
     "outputs": [],
     "prompt_number": 41
    },
    {
     "cell_type": "code",
     "collapsed": false,
     "input": [],
     "language": "python",
     "metadata": {},
     "outputs": [],
     "prompt_number": 61
    },
    {
     "cell_type": "code",
     "collapsed": false,
     "input": [],
     "language": "python",
     "metadata": {},
     "outputs": [],
     "prompt_number": 45
    },
    {
     "cell_type": "code",
     "collapsed": false,
     "input": [],
     "language": "python",
     "metadata": {},
     "outputs": []
    }
   ],
   "metadata": {}
  }
 ]
}