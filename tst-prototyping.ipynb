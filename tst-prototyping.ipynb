{
 "metadata": {
  "name": "tst-prototyping"
 },
 "nbformat": 3,
 "nbformat_minor": 0,
 "worksheets": [
  {
   "cells": [
    {
     "cell_type": "code",
     "collapsed": false,
     "input": [
      "from cc3dtools.PostProcess import SpacePlot, PostProcess\n",
      "from cc3dtools.Lineage import MultiLineage, lineage_bfs\n",
      "from cc3dtools.GenomeCompare import GenomeCompare"
     ],
     "language": "python",
     "metadata": {},
     "outputs": [],
     "prompt_number": 15
    },
    {
     "cell_type": "code",
     "collapsed": false,
     "input": [
      "sp = SpacePlot(start_file='./small_data/start_cells_Thu_Jun_18_14:37:05_2015.csv', end_file='./small_data/finish_cells_Thu_Jun_18_14:37:05_2015.csv', projection='2d')\n",
      "ml = MultiLineage(file_name='./small_data/division_events_Thu_Jun_18_14:37:05_2015.csv')\n",
      "gc = GenomeCompare.from_gen_file('./small_data/genomes_Thu_Jun_18_14:37:05_2015.csv')\n",
      "pp = PostProcess(end_file='./small_data/finish_cells_Thu_Jun_18_14:37:05_2015.csv', gc=gc)"
     ],
     "language": "python",
     "metadata": {},
     "outputs": [],
     "prompt_number": 16
    },
    {
     "cell_type": "code",
     "collapsed": false,
     "input": [
      "levels = lineage_bfs( ml.lineages[0]['lineage'] )\n",
      "for depth, level in levels.items():\n",
      "    sp.plot_selected(*level, depth=depth)"
     ],
     "language": "python",
     "metadata": {},
     "outputs": [],
     "prompt_number": 14
    },
    {
     "cell_type": "code",
     "collapsed": false,
     "input": [
      "pp.execute()"
     ],
     "language": "python",
     "metadata": {},
     "outputs": [
      {
       "output_type": "stream",
       "stream": "stdout",
       "text": [
        "start time: 1434656899.38\n",
        "Completed\n",
        " Total Number of comparisons:63546"
       ]
      },
      {
       "output_type": "stream",
       "stream": "stdout",
       "text": [
        "\n",
        "Number of cells 356\n",
        "Total Time:48.7424080372s\n"
       ]
      }
     ],
     "prompt_number": 17
    },
    {
     "cell_type": "code",
     "collapsed": false,
     "input": [
      "from collections import Counter\n",
      "import numpy as np\n",
      "import matplotlib.pyplot as plt\n",
      "\n",
      "\n",
      "counts = Counter( pp._shared )\n",
      "del counts[0]"
     ],
     "language": "python",
     "metadata": {},
     "outputs": [],
     "prompt_number": 43
    },
    {
     "cell_type": "code",
     "collapsed": false,
     "input": [],
     "language": "python",
     "metadata": {},
     "outputs": [],
     "prompt_number": 43
    },
    {
     "cell_type": "code",
     "collapsed": false,
     "input": [
      "\n",
      "labels, values = zip( *sorted(counts.items(), key=lambda x: x[0]) )\n",
      "\n",
      "indexes = np.arange( len( labels ) )\n",
      "width = 0.5\n",
      "\n",
      "plt.figure()\n",
      "plt.bar(indexes, values, width)\n",
      "plt.xticks( indexes + width * 0.5 , labels )\n",
      "plt.show()"
     ],
     "language": "python",
     "metadata": {},
     "outputs": [],
     "prompt_number": "*"
    },
    {
     "cell_type": "code",
     "collapsed": false,
     "input": [],
     "language": "python",
     "metadata": {},
     "outputs": [],
     "prompt_number": 3
    },
    {
     "cell_type": "code",
     "collapsed": false,
     "input": [],
     "language": "python",
     "metadata": {},
     "outputs": [],
     "prompt_number": 5
    },
    {
     "cell_type": "code",
     "collapsed": false,
     "input": [],
     "language": "python",
     "metadata": {},
     "outputs": [],
     "prompt_number": 5
    },
    {
     "cell_type": "code",
     "collapsed": false,
     "input": [],
     "language": "python",
     "metadata": {},
     "outputs": [],
     "prompt_number": 5
    },
    {
     "cell_type": "code",
     "collapsed": false,
     "input": [],
     "language": "python",
     "metadata": {},
     "outputs": []
    }
   ],
   "metadata": {}
  }
 ]
}