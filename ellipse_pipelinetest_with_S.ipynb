{
 "cells": [
  {
   "cell_type": "markdown",
   "metadata": {},
   "source": [
    "# Data processing"
   ]
  },
  {
   "cell_type": "code",
   "execution_count": 1,
   "metadata": {
    "collapsed": false
   },
   "outputs": [],
   "source": [
    "from cc3dtools.PostProcess import PostProcess, SpacePlot\n",
    "from cc3dtools.GenomeCompare import GenomeCompare"
   ]
  },
  {
   "cell_type": "code",
   "execution_count": 2,
   "metadata": {
    "collapsed": false
   },
   "outputs": [],
   "source": [
    "gc = GenomeCompare.from_gen2_file('./simulation_out/eccentric/genomes_Tue_Aug_25_14:41:02_2015.csv.gen2')\n",
    "pp = PostProcess(end_file='./simulation_out/eccentric/finish_cells_Tue_Aug_25_14:41:02_2015.csv', gc=gc)"
   ]
  },
  {
   "cell_type": "code",
   "execution_count": 3,
   "metadata": {
    "collapsed": true
   },
   "outputs": [],
   "source": [
    "method_parameters = {\n",
    "    \"N_points\": 20,\n",
    "    \"max_cells\":500,\n",
    "    \"radius\": 50,\n",
    "    \"min_cells\": 20,\n",
    "    \"ecc_steps\": 0.1,\n",
    "    \"cell_steps\": 5,\n",
    "    \"lattice_size\": 1000\n",
    "}"
   ]
  },
  {
   "cell_type": "code",
   "execution_count": 4,
   "metadata": {
    "collapsed": true
   },
   "outputs": [
    {
     "name": "stdout",
     "output_type": "stream",
     "text": [
      "[]\n",
      "[]\n",
      "[]\n",
      "[]\n",
      "[]\n",
      "[]\n",
      "[Cell(id=5054, x=245.76470588235293, y=749.7941176470588, z=0.0, type=1, initial=0)]\n",
      "[]\n",
      "[]\n",
      "[]\n",
      "[]\n",
      "[]\n",
      "[]\n",
      "[]\n",
      "[]\n",
      "[]\n",
      "[]\n",
      "[]\n",
      "[]\n",
      "[]\n",
      "[]\n",
      "[]\n",
      "[]\n",
      "[]\n",
      "[]\n",
      "[]\n",
      "[]\n",
      "[]\n",
      "[]\n",
      "[]\n",
      "[Cell(id=5450, x=387.7027027027027, y=103.13513513513513, z=0.0, type=1, initial=0)]\n",
      "[]\n",
      "[]\n",
      "[]\n",
      "[]\n",
      "[]\n",
      "[]\n",
      "[]\n",
      "[]\n",
      "[]\n",
      "[]\n",
      "[]\n",
      "[]\n",
      "[]\n",
      "[]\n",
      "[]\n",
      "[]\n",
      "[]\n",
      "[]\n",
      "[]\n",
      "[]\n",
      "[]\n",
      "[]\n",
      "[]\n",
      "[]\n",
      "[]\n",
      "[]\n",
      "[]\n",
      "[Cell(id=5054, x=245.76470588235293, y=749.7941176470588, z=0.0, type=1, initial=0)]\n",
      "[]\n",
      "[]\n",
      "[]\n",
      "[]\n",
      "[]\n",
      "[]\n",
      "[]\n",
      "[]\n",
      "[]\n",
      "[]\n",
      "[]\n",
      "[]\n",
      "[]\n",
      "[]\n",
      "[]\n",
      "[]\n",
      "[]\n",
      "[]\n",
      "[]\n",
      "[]\n",
      "[]\n",
      "[]\n",
      "[]\n",
      "[Cell(id=5450, x=387.7027027027027, y=103.13513513513513, z=0.0, type=1, initial=0)]\n",
      "[]\n",
      "[]\n",
      "[]\n",
      "[]\n",
      "[]\n",
      "[]\n",
      "[]\n",
      "[]\n",
      "[]\n",
      "[]\n",
      "[]\n",
      "[]\n",
      "[]\n",
      "[]\n",
      "[]\n",
      "[]\n",
      "[]\n",
      "[]\n",
      "[]\n",
      "[]\n",
      "[]\n",
      "[]\n",
      "[]\n",
      "[]\n",
      "[]\n",
      "[]\n",
      "[]\n",
      "[Cell(id=5054, x=245.76470588235293, y=749.7941176470588, z=0.0, type=1, initial=0)]\n",
      "[]\n",
      "[]\n",
      "[]\n",
      "[]\n",
      "[]\n",
      "[]\n",
      "[]\n",
      "[]\n",
      "[]\n",
      "[]\n",
      "[]\n",
      "[]\n",
      "[]\n",
      "[]\n",
      "[]\n",
      "[]\n",
      "[]\n",
      "[]\n",
      "[]\n",
      "[]\n",
      "[]\n",
      "[]\n",
      "[]\n",
      "[Cell(id=5450, x=387.7027027027027, y=103.13513513513513, z=0.0, type=1, initial=0)]\n",
      "[]\n",
      "[]\n",
      "[]\n",
      "[]\n",
      "[]\n",
      "[]\n",
      "[]\n",
      "[]\n",
      "[]\n",
      "[]\n",
      "[]\n",
      "[]\n",
      "[]\n",
      "[]\n",
      "[]\n",
      "[]\n",
      "[]\n",
      "[]\n",
      "[]\n",
      "[]\n",
      "[]\n",
      "[]\n",
      "[]\n",
      "[]\n",
      "[]\n",
      "[]\n",
      "[]\n",
      "[Cell(id=5054, x=245.76470588235293, y=749.7941176470588, z=0.0, type=1, initial=0)]\n",
      "[]\n",
      "[]\n",
      "[]\n",
      "[]\n",
      "[]\n",
      "[]\n",
      "[]\n",
      "[]\n",
      "[]\n",
      "[]\n",
      "[]\n",
      "[]\n",
      "[]\n",
      "[]\n",
      "[]\n",
      "[]\n",
      "[]\n",
      "[]\n",
      "[]\n",
      "[]\n",
      "[]\n",
      "[]\n",
      "[]\n",
      "[Cell(id=5450, x=387.7027027027027, y=103.13513513513513, z=0.0, type=1, initial=0)]\n",
      "[]\n",
      "[]\n",
      "[]\n",
      "[]\n",
      "[]\n",
      "[]\n",
      "[]\n",
      "[]\n",
      "[]\n",
      "[]\n",
      "[]\n",
      "[]\n",
      "[]\n",
      "[]\n",
      "[]\n",
      "[]\n",
      "[]\n",
      "[]\n",
      "[]\n",
      "[]\n",
      "[]\n",
      "[]\n",
      "[]\n",
      "[]\n",
      "[]\n",
      "[]\n",
      "[]\n",
      "[Cell(id=5054, x=245.76470588235293, y=749.7941176470588, z=0.0, type=1, initial=0)]\n",
      "[]\n",
      "[]\n",
      "[]\n",
      "[]\n",
      "[]\n",
      "[]\n",
      "[]\n",
      "[]\n",
      "[]\n",
      "[]\n",
      "[]\n",
      "[]\n",
      "[]\n",
      "[]\n",
      "[]\n",
      "[]\n",
      "[]\n",
      "[]\n",
      "[]\n",
      "[]\n",
      "[]\n",
      "[]\n",
      "[]\n",
      "[Cell(id=5450, x=387.7027027027027, y=103.13513513513513, z=0.0, type=1, initial=0)]\n",
      "[]\n",
      "[]\n",
      "[]\n",
      "[]\n",
      "[]\n",
      "[]\n",
      "[]\n",
      "[]\n",
      "[]\n",
      "[]\n",
      "[]\n",
      "[]\n",
      "[]\n",
      "[]\n",
      "[]\n",
      "[]\n",
      "[]\n",
      "[]\n",
      "[]\n",
      "[]\n",
      "[]\n",
      "[]\n",
      "[]\n",
      "[]\n",
      "[]\n",
      "[]\n",
      "[]\n",
      "[Cell(id=5054, x=245.76470588235293, y=749.7941176470588, z=0.0, type=1, initial=0)]\n",
      "[]\n",
      "[]\n",
      "[]\n",
      "[]\n",
      "[]\n",
      "[]\n",
      "[]\n",
      "[]\n",
      "[]\n",
      "[]\n",
      "[]\n",
      "[]\n",
      "[]\n",
      "[]\n",
      "[]\n",
      "[]\n",
      "[]\n",
      "[]\n",
      "[]\n",
      "[Cell(id=5450, x=387.7027027027027, y=103.13513513513513, z=0.0, type=1, initial=0)]\n",
      "[]\n",
      "[]\n",
      "[]\n",
      "[Cell(id=5450, x=387.7027027027027, y=103.13513513513513, z=0.0, type=1, initial=0)]\n",
      "[]\n",
      "[]\n",
      "[]\n",
      "[]\n",
      "[]\n",
      "[]\n",
      "[]\n",
      "[]\n",
      "[]\n",
      "[]\n",
      "[]\n",
      "[]\n",
      "[]\n",
      "[]\n",
      "[]\n",
      "[]\n",
      "[]\n",
      "[]\n",
      "[]\n",
      "[]\n",
      "[]\n",
      "[Cell(id=35593, x=690.5714285714286, y=131.0857142857143, z=0.0, type=1, initial=0)]\n",
      "[]\n",
      "[]\n",
      "[]\n",
      "[]\n",
      "[]\n",
      "[Cell(id=5054, x=245.76470588235293, y=749.7941176470588, z=0.0, type=1, initial=0)]\n",
      "[]\n",
      "[]\n",
      "[]\n",
      "[]\n",
      "[]\n",
      "[]\n",
      "[]\n",
      "[]\n",
      "[]\n",
      "[]\n",
      "[]\n",
      "[]\n",
      "[]\n",
      "[]\n",
      "[]\n",
      "[]\n",
      "[]\n",
      "[]\n",
      "[]\n",
      "[Cell(id=5450, x=387.7027027027027, y=103.13513513513513, z=0.0, type=1, initial=0)]\n",
      "[]\n",
      "[]\n",
      "[]\n",
      "[]\n",
      "[]\n",
      "[]\n",
      "[]\n",
      "[]\n",
      "[]\n",
      "[]\n",
      "[]\n",
      "[]\n",
      "[]\n",
      "[]\n",
      "[]\n",
      "[]\n",
      "[]\n",
      "[]\n",
      "[]\n",
      "[]\n",
      "[]\n",
      "[]\n",
      "[]\n",
      "[]\n",
      "[Cell(id=35593, x=690.5714285714286, y=131.0857142857143, z=0.0, type=1, initial=0)]\n",
      "[]\n",
      "[]\n",
      "[]\n",
      "[]\n",
      "[]\n",
      "[Cell(id=5054, x=245.76470588235293, y=749.7941176470588, z=0.0, type=1, initial=0)]\n",
      "[]\n",
      "[]\n",
      "[]\n",
      "[]\n",
      "[]\n",
      "[]\n",
      "[]\n",
      "[]\n",
      "[]\n",
      "[]\n",
      "[]\n",
      "[]\n",
      "[]\n",
      "[]\n",
      "[]\n",
      "[]\n",
      "[]\n",
      "[]\n",
      "[]\n",
      "[Cell(id=5450, x=387.7027027027027, y=103.13513513513513, z=0.0, type=1, initial=0)]\n",
      "[]\n",
      "[]\n",
      "[]\n",
      "[]\n",
      "[]\n",
      "[]\n",
      "[]\n",
      "[]\n",
      "[]\n",
      "[]\n",
      "[]\n",
      "[]\n",
      "[]\n",
      "[]\n",
      "[]\n",
      "[]\n",
      "[]\n",
      "[]\n",
      "[]\n",
      "[]\n",
      "[]\n",
      "[]\n",
      "[]\n",
      "[]\n",
      "[]\n",
      "[]\n",
      "[]\n",
      "[]\n",
      "[]\n",
      "[Cell(id=5054, x=245.76470588235293, y=749.7941176470588, z=0.0, type=1, initial=0)]\n",
      "[]\n",
      "[]\n",
      "[]\n",
      "[]\n",
      "[]\n",
      "[]\n",
      "[]\n",
      "[]\n",
      "[]\n",
      "[]\n",
      "[]\n",
      "[]\n",
      "[]\n",
      "[]\n",
      "[]\n",
      "[Cell(id=5450, x=387.7027027027027, y=103.13513513513513, z=0.0, type=1, initial=0)]\n",
      "[]\n",
      "[]\n",
      "[]\n",
      "[]\n",
      "[]\n",
      "[]\n",
      "[]\n",
      "[]\n",
      "[]\n",
      "[]\n",
      "[]\n",
      "[]\n",
      "[]\n",
      "[]\n",
      "[]\n",
      "[]\n",
      "[]\n",
      "[]\n",
      "[]\n",
      "[]\n",
      "[]\n",
      "[]\n",
      "[]\n",
      "[]\n",
      "[]\n",
      "[]\n",
      "[]\n",
      "[]\n",
      "[]\n",
      "[]\n",
      "[]\n",
      "[]\n",
      "[Cell(id=5054, x=245.76470588235293, y=749.7941176470588, z=0.0, type=1, initial=0)]\n",
      "[]\n",
      "[]\n",
      "[]\n",
      "[]\n",
      "[]\n",
      "[]\n",
      "[]\n",
      "[]\n",
      "[]\n",
      "[]\n",
      "[Cell(id=5450, x=387.7027027027027, y=103.13513513513513, z=0.0, type=1, initial=0)]\n",
      "[]\n",
      "[]\n",
      "[]\n",
      "[]\n",
      "[]\n",
      "[]\n",
      "[]\n",
      "[]\n",
      "[]\n",
      "[]\n",
      "[]\n",
      "[]\n",
      "[]\n",
      "[]\n",
      "[]\n",
      "[]\n",
      "[]\n",
      "[]\n",
      "[]\n",
      "[]\n",
      "[]\n",
      "[]\n",
      "[]\n",
      "[]\n",
      "[]\n",
      "[]\n",
      "[]\n",
      "[]\n",
      "[]\n",
      "[]\n",
      "[]\n"
     ]
    },
    {
     "name": "stderr",
     "output_type": "stream",
     "text": [
      "/Users/zahmed/anaconda/lib/python2.7/site-packages/numpy/core/_methods.py:59: RuntimeWarning: Mean of empty slice.\n",
      "  warnings.warn(\"Mean of empty slice.\", RuntimeWarning)\n",
      "/Users/zahmed/anaconda/lib/python2.7/site-packages/numpy/core/_methods.py:71: RuntimeWarning: invalid value encountered in double_scalars\n",
      "  ret = ret.dtype.type(ret / rcount)\n"
     ]
    }
   ],
   "source": [
    "results = pp.eccentric_sampling_strategy(**method_parameters)"
   ]
  },
  {
   "cell_type": "code",
   "execution_count": 5,
   "metadata": {
    "collapsed": false,
    "scrolled": true
   },
   "outputs": [],
   "source": [
    "results = results['results']"
   ]
  },
  {
   "cell_type": "code",
   "execution_count": 17,
   "metadata": {
    "collapsed": true
   },
   "outputs": [],
   "source": [
    "import pickle"
   ]
  },
  {
   "cell_type": "code",
   "execution_count": 19,
   "metadata": {
    "collapsed": false
   },
   "outputs": [
    {
     "data": {
      "text/plain": [
       "'(lp0\\n(dp1\\nS\\'eccentricity\\'\\np2\\ncnumpy.core.multiarray\\nscalar\\np3\\n(cnumpy\\ndtype\\np4\\n(S\\'f8\\'\\np5\\nI0\\nI1\\ntp6\\nRp7\\n(I3\\nS\\'<\\'\\np8\\nNNNI-1\\nI-1\\nI0\\ntp9\\nbS\\'\\\\x00\\\\x00\\\\x00\\\\x00\\\\x00\\\\x00\\\\x00\\\\x00\\'\\np10\\ntp11\\nRp12\\nsS\\'samples\\'\\np13\\n(lp14\\n(dp15\\nS\\'E_of_pi\\'\\np16\\ng3\\n(g7\\nS\\'|A\\\\x80\\\\x9b\\\\x10\\\\xc8\\\\xe5?\\'\\np17\\ntp18\\nRp19\\nsS\\'sample_size\\'\\np20\\nI20\\nsS\\'S\\'\\np21\\ng3\\n(g7\\nS\\'3333\\\\xb3*\\\\xac@\\'\\np22\\ntp23\\nRp24\\nsS\\'d_0\\'\\np25\\ng3\\n(g7\\nS\\'\\\\xcb\\\\xe0x=+M8@\\'\\np26\\ntp27\\nRp28\\nsS\\'skips\\'\\np29\\nI0\\nsa(dp30\\ng16\\ng3\\n(g7\\nS\\'\\\\xb4\\\\xa6k?\\\\x89\\\\x81\\\\xf1?\\'\\np31\\ntp32\\nRp33\\nsg20\\nI50\\nsg21\\ng3\\n(g7\\nS\\'\\\\x9a\\\\x99\\\\x99\\\\x99\\\\x19\\\\x87\\\\xb2@\\'\\np34\\ntp35\\nRp36\\nsg25\\ng3\\n(g7\\nS\\'\\\\x93\\\\xc28{\\\\xc5\\\\xd5>@\\'\\np37\\ntp38\\nRp39\\nsg29\\nI0\\nsa(dp40\\ng16\\ng3\\n(g7\\nS\\'\\\\x86\\\\x1f%G!\\\\xf3\\\\xf6?\\'\\np41\\ntp42\\nRp43\\nsg20\\nI100\\nsg21\\ng3\\n(g7\\nS\\'3333s-\\\\xb9@\\'\\np44\\ntp45\\nRp46\\nsg25\\ng3\\n(g7\\nS\\'\\\\xd3*\\\\xb2\\\\x1b\\\\xe63H@\\'\\np47\\ntp48\\nRp49\\nsg29\\nI0\\nsa(dp50\\ng16\\ng3\\n(g7\\nS\\'\\\\xb6\\\\xf2\\\\xd3M\\\\xfa\\\\xed\\\\xfb?\\'\\np51\\ntp52\\nRp53\\nsg20\\nI200\\nsg21\\ng3\\n(g7\\nS\\'\\\\xcd\\\\xcc\\\\xcc\\\\xcc\\\\x8c|\\\\xc0@\\'\\np54\\ntp55\\nRp56\\nsg25\\ng3\\n(g7\\nS\\'\\\\x96Q\\\\x06\\\\xb5\\\\x00dP@\\'\\np57\\ntp58\\nRp59\\nsg29\\nI0\\nsa(dp60\\ng16\\ng3\\n(g7\\nS\\'\\\\x85\\\\xaf\\\\xbd\\\\x03\\\\x13\\\\xe7\\\\xff?\\'\\np61\\ntp62\\nRp63\\nsg20\\nI300\\nsg21\\ng3\\n(g7\\nS\\'ffff\\\\xc6x\\\\xc3@\\'\\np64\\ntp65\\nRp66\\nsg25\\ng3\\n(g7\\nS\\'\\\\\\\\\\\\xfd\\\\xa5\\\\xd3\\\\xc1`Q@\\'\\np67\\ntp68\\nRp69\\nsg29\\nI0\\nsa(dp70\\ng16\\ng3\\n(g7\\nS\\'\\\\xa5[#\\\\xbd@\\\\xf3\\\\x01@\\'\\np71\\ntp72\\nRp73\\nsg20\\nI400\\nsg21\\ng3\\n(g7\\nS\\'3333S\\\\xd5\\\\xc5@\\'\\np74\\ntp75\\nRp76\\nsg25\\ng3\\n(g7\\nS\\'.\\\\xdb}~w\\\\x92S@\\'\\np77\\ntp78\\nRp79\\nsg29\\nI0\\nsa(dp80\\ng16\\ng3\\n(g7\\nS\\')\\\\x1d\\\\xefx\\\\xde?\\\\x02@\\'\\np81\\ntp82\\nRp83\\nsg20\\nI500\\nsg21\\ng3\\n(g7\\nS\\'3333S<\\\\xc8@\\'\\np84\\ntp85\\nRp86\\nsg25\\ng3\\n(g7\\nS\\'\\\\xc4\\\\x96\\\\xd9q\\\\x06\\\\x19V@\\'\\np87\\ntp88\\nRp89\\nsg29\\nI0\\nsa(dp90\\ng16\\ng3\\n(g7\\nS\\'\\\\x12^\\\\x05\\\\xc5v\\\\xa8\\\\x02@\\'\\np91\\ntp92\\nRp93\\nsg20\\nI600\\nsg21\\ng3\\n(g7\\nS\\'ffff\\\\xe6\\\\xd6\\\\xc9@\\'\\np94\\ntp95\\nRp96\\nsg25\\ng3\\n(g7\\nS\\'\\\\xe4\\\\xe1\\\\xe3>wfV@\\'\\np97\\ntp98\\nRp99\\nsg29\\nI0\\nsa(dp100\\ng16\\ng3\\n(g7\\nS\\'9\\\\x8c*5\\\\xa5>\\\\x03@\\'\\np101\\ntp102\\nRp103\\nsg20\\nI750\\nsg21\\ng3\\n(g7\\nS\\'\\\\x00\\\\x00\\\\x00\\\\x00\\\\x80P\\\\xcc@\\'\\np104\\ntp105\\nRp106\\nsg25\\ng3\\n(g7\\nS\\'\\\\xc4out+\\\\xf6X@\\'\\np107\\ntp108\\nRp109\\nsg29\\nI0\\nsa(dp110\\ng16\\ng3\\n(g7\\nS\\'\\\\n\\\\x9f\\\\xc8\\\\xd4\\\\xa1\\\\xf9\\\\x04@\\'\\np111\\ntp112\\nRp113\\nsg20\\nI1000\\nsg21\\ng3\\n(g7\\nS\\'\\\\x9a\\\\x99\\\\x99\\\\x99\\\\t\\\\x11\\\\xd0@\\'\\np114\\ntp115\\nRp116\\nsg25\\ng3\\n(g7\\nS\\'\\\\xe8\\\\x04*\\\\xcf\\\\xc1\\\\x81\\\\\\\\@\\'\\np117\\ntp118\\nRp119\\nsg29\\nI0\\nsa(dp120\\ng16\\ng3\\n(g7\\nS\"\\\\x0f\\'*\\\\x07$\\\\x14\\\\x05@\"\\np121\\ntp122\\nRp123\\nsg20\\nI1250\\nsg21\\ng3\\n(g7\\nS\\'\\\\xcd\\\\xcc\\\\xcc\\\\xcc\\\\x0c\\\\x05\\\\xd1@\\'\\np124\\ntp125\\nRp126\\nsg25\\ng3\\n(g7\\nS\\'byCE\\\\x95\\\\xd9^@\\'\\np127\\ntp128\\nRp129\\nsg29\\nI0\\nsa(dp130\\ng16\\ng3\\n(g7\\nS\\'Z\\\\xa1\\\\xa1\\\\xe7\\\\x1b\\\\x06\\\\x06@\\'\\np131\\ntp132\\nRp133\\nsg20\\nI1500\\nsg21\\ng3\\n(g7\\nS\\'\\\\x00\\\\x00\\\\x00\\\\x00@\\\\xb7\\\\xd1@\\'\\np134\\ntp135\\nRp136\\nsg25\\ng3\\n(g7\\nS\\'\\\\x89tV\\\\x0f:C`@\\'\\np137\\ntp138\\nRp139\\nsg29\\nI0\\nsa(dp140\\ng16\\ng3\\n(g7\\nS\\'\\\\x9e\\\\xd8\\\\xfa\\\\x96\\\\xff:\\\\x07@\\'\\np141\\ntp142\\nRp143\\nsg20\\nI2000\\nsg21\\ng3\\n(g7\\nS\\'\\\\x9a\\\\x99\\\\x99\\\\x99\\\\xc9N\\\\xd3@\\'\\np144\\ntp145\\nRp146\\nsg25\\ng3\\n(g7\\nS\\',\\\\xca\\\\xb3\\\\xbf\\\\xda\\\\xbda@\\'\\np147\\ntp148\\nRp149\\nsg29\\nI0\\nsasa(dp150\\ng2\\ng3\\n(g7\\nS\\'\\\\x9a\\\\x99\\\\x99\\\\x99\\\\x99\\\\x99\\\\xb9?\\'\\np151\\ntp152\\nRp153\\nsg13\\n(lp154\\n(dp155\\ng16\\ng3\\n(g7\\nS\\':K\\\\xd5;\\\\xfc\\\\x1e\\\\xe5?\\'\\np156\\ntp157\\nRp158\\nsg20\\nI20\\nsg21\\ng3\\n(g7\\nS\\'\\\\x00\\\\x00\\\\x00\\\\x00\\\\x80\\\\xfb\\\\xab@\\'\\np159\\ntp160\\nRp161\\nsg25\\ng3\\n(g7\\nS\\'\\\\xcc\\\\xa4-\\\\xd8\\\\xcd\\\\x198@\\'\\np162\\ntp163\\nRp164\\nsg29\\nI0\\nsa(dp165\\ng16\\ng3\\n(g7\\nS\\'\\\\xb4\\\\xa6k?\\\\x89\\\\x81\\\\xf1?\\'\\np166\\ntp167\\nRp168\\nsg20\\nI50\\nsg21\\ng3\\n(g7\\nS\\'\\\\x9a\\\\x99\\\\x99\\\\x99\\\\x19\\\\x87\\\\xb2@\\'\\np169\\ntp170\\nRp171\\nsg25\\ng3\\n(g7\\nS\\'\\\\x93\\\\xc28{\\\\xc5\\\\xd5>@\\'\\np172\\ntp173\\nRp174\\nsg29\\nI0\\nsa(dp175\\ng16\\ng3\\n(g7\\nS\\'\\\\x86\\\\x1f%G!\\\\xf3\\\\xf6?\\'\\np176\\ntp177\\nRp178\\nsg20\\nI100\\nsg21\\ng3\\n(g7\\nS\\'3333s-\\\\xb9@\\'\\np179\\ntp180\\nRp181\\nsg25\\ng3\\n(g7\\nS\\'\\\\xd3*\\\\xb2\\\\x1b\\\\xe63H@\\'\\np182\\ntp183\\nRp184\\nsg29\\nI0\\nsa(dp185\\ng16\\ng3\\n(g7\\nS\\'\\\\xb6\\\\xf2\\\\xd3M\\\\xfa\\\\xed\\\\xfb?\\'\\np186\\ntp187\\nRp188\\nsg20\\nI200\\nsg21\\ng3\\n(g7\\nS\\'\\\\xcd\\\\xcc\\\\xcc\\\\xcc\\\\x8c|\\\\xc0@\\'\\np189\\ntp190\\nRp191\\nsg25\\ng3\\n(g7\\nS\\'\\\\x96Q\\\\x06\\\\xb5\\\\x00dP@\\'\\np192\\ntp193\\nRp194\\nsg29\\nI0\\nsa(dp195\\ng16\\ng3\\n(g7\\nS\\'\\\\x85\\\\xaf\\\\xbd\\\\x03\\\\x13\\\\xe7\\\\xff?\\'\\np196\\ntp197\\nRp198\\nsg20\\nI300\\nsg21\\ng3\\n(g7\\nS\\'ffff\\\\xc6x\\\\xc3@\\'\\np199\\ntp200\\nRp201\\nsg25\\ng3\\n(g7\\nS\\'\\\\\\\\\\\\xfd\\\\xa5\\\\xd3\\\\xc1`Q@\\'\\np202\\ntp203\\nRp204\\nsg29\\nI0\\nsa(dp205\\ng16\\ng3\\n(g7\\nS\\'\\\\x1b\\\\xcd,Z\\\\xc1\\\\xed\\\\x01@\\'\\np206\\ntp207\\nRp208\\nsg20\\nI400\\nsg21\\ng3\\n(g7\\nS\\'3333\\\\xb3\\\\xe1\\\\xc5@\\'\\np209\\ntp210\\nRp211\\nsg25\\ng3\\n(g7\\nS\\'L\\\\xf3\\\\x1c.[\\\\xa2S@\\'\\np212\\ntp213\\nRp214\\nsg29\\nI0\\nsa(dp215\\ng16\\ng3\\n(g7\\nS\\'\\\\xccgGE\\\\x857\\\\x02@\\'\\np216\\ntp217\\nRp218\\nsg20\\nI500\\nsg21\\ng3\\n(g7\\nS\\'3333SF\\\\xc8@\\'\\np219\\ntp220\\nRp221\\nsg25\\ng3\\n(g7\\nS\"\\\\xc0\\\\xb5\\\\xa8\\\\x12\\'9V@\"\\np222\\ntp223\\nRp224\\nsg29\\nI0\\nsa(dp225\\ng16\\ng3\\n(g7\\nS\\'\\\\xba\\\\x9e\\\\xd2\\\\xc4ow\\\\x02@\\'\\np226\\ntp227\\nRp228\\nsg20\\nI600\\nsg21\\ng3\\n(g7\\nS\\'\\\\x00\\\\x00\\\\x00\\\\x00 \\\\xbb\\\\xc9@\\'\\np229\\ntp230\\nRp231\\nsg25\\ng3\\n(g7\\nS\\'\\\\x0b\\\\x8b\\\\xe0\\\\x83MeV@\\'\\np232\\ntp233\\nRp234\\nsg29\\nI0\\nsa(dp235\\ng16\\ng3\\n(g7\\nS\\'9\\\\x8c*5\\\\xa5>\\\\x03@\\'\\np236\\ntp237\\nRp238\\nsg20\\nI750\\nsg21\\ng3\\n(g7\\nS\\'\\\\x00\\\\x00\\\\x00\\\\x00\\\\x80P\\\\xcc@\\'\\np239\\ntp240\\nRp241\\nsg25\\ng3\\n(g7\\nS\\'\\\\xc4out+\\\\xf6X@\\'\\np242\\ntp243\\nRp244\\nsg29\\nI0\\nsa(dp245\\ng16\\ng3\\n(g7\\nS\\'zk&\\\\x90]#\\\\x05@\\'\\np246\\ntp247\\nRp248\\nsg20\\nI1000\\nsg21\\ng3\\n(g7\\nS\\'3333\\\\xe3\\\\x16\\\\xd0@\\'\\np249\\ntp250\\nRp251\\nsg25\\ng3\\n(g7\\nS\\'(\\\\xd4\\\\x18k\\\\x15\\\\x92\\\\\\\\@\\'\\np252\\ntp253\\nRp254\\nsg29\\nI0\\nsa(dp255\\ng16\\ng3\\n(g7\\nS\"\\\\x0f\\'*\\\\x07$\\\\x14\\\\x05@\"\\np256\\ntp257\\nRp258\\nsg20\\nI1250\\nsg21\\ng3\\n(g7\\nS\\'\\\\xcd\\\\xcc\\\\xcc\\\\xcc\\\\x0c\\\\x05\\\\xd1@\\'\\np259\\ntp260\\nRp261\\nsg25\\ng3\\n(g7\\nS\\'byCE\\\\x95\\\\xd9^@\\'\\np262\\ntp263\\nRp264\\nsg29\\nI0\\nsa(dp265\\ng16\\ng3\\n(g7\\nS\\'Z\\\\xa1\\\\xa1\\\\xe7\\\\x1b\\\\x06\\\\x06@\\'\\np266\\ntp267\\nRp268\\nsg20\\nI1500\\nsg21\\ng3\\n(g7\\nS\\'\\\\x00\\\\x00\\\\x00\\\\x00@\\\\xb7\\\\xd1@\\'\\np269\\ntp270\\nRp271\\nsg25\\ng3\\n(g7\\nS\\'\\\\x89tV\\\\x0f:C`@\\'\\np272\\ntp273\\nRp274\\nsg29\\nI0\\nsa(dp275\\ng16\\ng3\\n(g7\\nS\\'\\\\x9e\\\\xd8\\\\xfa\\\\x96\\\\xff:\\\\x07@\\'\\np276\\ntp277\\nRp278\\nsg20\\nI2000\\nsg21\\ng3\\n(g7\\nS\\'\\\\x9a\\\\x99\\\\x99\\\\x99\\\\xc9N\\\\xd3@\\'\\np279\\ntp280\\nRp281\\nsg25\\ng3\\n(g7\\nS\\',\\\\xca\\\\xb3\\\\xbf\\\\xda\\\\xbda@\\'\\np282\\ntp283\\nRp284\\nsg29\\nI0\\nsasa(dp285\\ng2\\ng3\\n(g7\\nS\\'\\\\x9a\\\\x99\\\\x99\\\\x99\\\\x99\\\\x99\\\\xc9?\\'\\np286\\ntp287\\nRp288\\nsg13\\n(lp289\\n(dp290\\ng16\\ng3\\n(g7\\nS\\'\\\\xc9v\\\\xbe\\\\x9f\\\\x1a\\\\xcf\\\\xe5?\\'\\np291\\ntp292\\nRp293\\nsg20\\nI20\\nsg21\\ng3\\n(g7\\nS\\'\\\\x00\\\\x00\\\\x00\\\\x00\\\\x80\\\\xfb\\\\xab@\\'\\np294\\ntp295\\nRp296\\nsg25\\ng3\\n(g7\\nS\\'\\\\xeb\\\\x17\\\\xa5-ON8@\\'\\np297\\ntp298\\nRp299\\nsg29\\nI0\\nsa(dp300\\ng16\\ng3\\n(g7\\nS\\'\\\\xb4\\\\xa6k?\\\\x89\\\\x81\\\\xf1?\\'\\np301\\ntp302\\nRp303\\nsg20\\nI50\\nsg21\\ng3\\n(g7\\nS\\'\\\\x9a\\\\x99\\\\x99\\\\x99\\\\x19\\\\x87\\\\xb2@\\'\\np304\\ntp305\\nRp306\\nsg25\\ng3\\n(g7\\nS\\'\\\\x93\\\\xc28{\\\\xc5\\\\xd5>@\\'\\np307\\ntp308\\nRp309\\nsg29\\nI0\\nsa(dp310\\ng16\\ng3\\n(g7\\nS\\'\\\\xbe\\\\x10g\\\\x03I\\\\xf5\\\\xf6?\\'\\np311\\ntp312\\nRp313\\nsg20\\nI100\\nsg21\\ng3\\n(g7\\nS\\'\\\\x9a\\\\x99\\\\x99\\\\x99\\\\x19\\\\x0e\\\\xb9@\\'\\np314\\ntp315\\nRp316\\nsg25\\ng3\\n(g7\\nS\\'\\\\xb6\\\\x0bc\\\\xd4\\\\xf59H@\\'\\np317\\ntp318\\nRp319\\nsg29\\nI0\\nsa(dp320\\ng16\\ng3\\n(g7\\nS\\'c\\\\x1e#|\\\\xeb\\\\x88\\\\xfb?\\'\\np321\\ntp322\\nRp323\\nsg20\\nI200\\nsg21\\ng3\\n(g7\\nS\\'\\\\x9a\\\\x99\\\\x99\\\\x99\\\\x19\\\\x87\\\\xc0@\\'\\np324\\ntp325\\nRp326\\nsg25\\ng3\\n(g7\\nS\\':\\\\x83\\\\xfet\\\\x99iP@\\'\\np327\\ntp328\\nRp329\\nsg29\\nI0\\nsa(dp330\\ng16\\ng3\\n(g7\\nS\\'\\\\x85\\\\xaf\\\\xbd\\\\x03\\\\x13\\\\xe7\\\\xff?\\'\\np331\\ntp332\\nRp333\\nsg20\\nI300\\nsg21\\ng3\\n(g7\\nS\\'ffff\\\\xc6x\\\\xc3@\\'\\np334\\ntp335\\nRp336\\nsg25\\ng3\\n(g7\\nS\\'\\\\\\\\\\\\xfd\\\\xa5\\\\xd3\\\\xc1`Q@\\'\\np337\\ntp338\\nRp339\\nsg29\\nI0\\nsa(dp340\\ng16\\ng3\\n(g7\\nS\\'\\\\xbc\\\\xda\\\\xb0Q!\\\\xc2\\\\x01@\\'\\np341\\ntp342\\nRp343\\nsg20\\nI400\\nsg21\\ng3\\n(g7\\nS\\'\\\\x00\\\\x00\\\\x00\\\\x00`\\\\xb0\\\\xc5@\\'\\np344\\ntp345\\nRp346\\nsg25\\ng3\\n(g7\\nS\\'\\\\x96<\\\\xbaf+\\\\x86S@\\'\\np347\\ntp348\\nRp349\\nsg29\\nI0\\nsa(dp350\\ng16\\ng3\\n(g7\\nS\\'\\\\x16\\\\xcc\\\\xbb\\\\x92!;\\\\x02@\\'\\np351\\ntp352\\nRp353\\nsg20\\nI500\\nsg21\\ng3\\n(g7\\nS\\'\\\\x00\\\\x00\\\\x00\\\\x00`<\\\\xc8@\\'\\np354\\ntp355\\nRp356\\nsg25\\ng3\\n(g7\\nS\\'\\\\x9ek\\\\xda~\\\\xd6+V@\\'\\np357\\ntp358\\nRp359\\nsg29\\nI0\\nsa(dp360\\ng16\\ng3\\n(g7\\nS\\'=\\\\xea\\\\x83\\\\xee\\\\xbe\\\\xe1\\\\x01@\\'\\np361\\ntp362\\nRp363\\nsg20\\nI600\\nsg21\\ng3\\n(g7\\nS\\'ffffF\\\\xe1\\\\xc9@\\'\\np364\\ntp365\\nRp366\\nsg25\\ng3\\n(g7\\nS\\'\\\\xc9\\\\xa9\\\\x87}m|V@\\'\\np367\\ntp368\\nRp369\\nsg29\\nI0\\nsa(dp370\\ng16\\ng3\\n(g7\\nS\\'b\\\\x05\\\\x11`n+\\\\x03@\\'\\np371\\ntp372\\nRp373\\nsg20\\nI750\\nsg21\\ng3\\n(g7\\nS\\'ffff\\\\x06a\\\\xcc@\\'\\np374\\ntp375\\nRp376\\nsg25\\ng3\\n(g7\\nS\\'iS\\\\n\\\\x9dO\\\\xf9X@\\'\\np377\\ntp378\\nRp379\\nsg29\\nI0\\nsa(dp380\\ng16\\ng3\\n(g7\\nS\\'\\\\x1f\\\\xb2\\\\xafO\\\\x84O\\\\x05@\\'\\np381\\ntp382\\nRp383\\nsg20\\nI1000\\nsg21\\ng3\\n(g7\\nS\\'\\\\x9a\\\\x99\\\\x99\\\\x99\\\\xa9\\\\x18\\\\xd0@\\'\\np384\\ntp385\\nRp386\\nsg25\\ng3\\n(g7\\nS\\'\\\\x0fx1\\\\xb0v~\\\\\\\\@\\'\\np387\\ntp388\\nRp389\\nsg29\\nI0\\nsa(dp390\\ng16\\ng3\\n(g7\\nS\\'\\\\xb8G\\\\x9f\\\\xe5,r\\\\x05@\\'\\np391\\ntp392\\nRp393\\nsg20\\nI1250\\nsg21\\ng3\\n(g7\\nS\\'\\\\xcd\\\\xcc\\\\xcc\\\\xcc\\\\xcc\\\\xf4\\\\xd0@\\'\\np394\\ntp395\\nRp396\\nsg25\\ng3\\n(g7\\nS\\'\\\\x9c\\\\xf1x\\\\xc6\\\\x9a\\\\xcf^@\\'\\np397\\ntp398\\nRp399\\nsg29\\nI0\\nsa(dp400\\ng16\\ng3\\n(g7\\nS\\'4\\\\xdfqHk\\\\n\\\\x06@\\'\\np401\\ntp402\\nRp403\\nsg20\\nI1500\\nsg21\\ng3\\n(g7\\nS\\'\\\\x9a\\\\x99\\\\x99\\\\x99\\\\xf9\\\\xb0\\\\xd1@\\'\\np404\\ntp405\\nRp406\\nsg25\\ng3\\n(g7\\nS\\'\\\\x9fu\\\\xf6n 7`@\\'\\np407\\ntp408\\nRp409\\nsg29\\nI0\\nsa(dp410\\ng16\\ng3\\n(g7\\nS\\'\\\\xa7m\\\\x980\\\\x15>\\\\x07@\\'\\np411\\ntp412\\nRp413\\nsg20\\nI2000\\nsg21\\ng3\\n(g7\\nS\\'ffff\\\\xc6c\\\\xd3@\\'\\np414\\ntp415\\nRp416\\nsg25\\ng3\\n(g7\\nS\\'Y\\\\x13\\\\x0eC7\\\\xd1a@\\'\\np417\\ntp418\\nRp419\\nsg29\\nI0\\nsasa(dp420\\ng2\\ng3\\n(g7\\nS\\'433333\\\\xd3?\\'\\np421\\ntp422\\nRp423\\nsg13\\n(lp424\\n(dp425\\ng16\\ng3\\n(g7\\nS\\'W\\\\xc7\\\\x04\\\\x0f\\\\xe69\\\\xe6?\\'\\np426\\ntp427\\nRp428\\nsg20\\nI20\\nsg21\\ng3\\n(g7\\nS\\'\\\\x00\\\\x00\\\\x00\\\\x00\\\\x00\\\\x9f\\\\xac@\\'\\np429\\ntp430\\nRp431\\nsg25\\ng3\\n(g7\\nS\\'d\\\\x18G\\\\xa5d\\\\xc68@\\'\\np432\\ntp433\\nRp434\\nsg29\\nI0\\nsa(dp435\\ng16\\ng3\\n(g7\\nS\\'P\\\\xfe~\\\\x0e\\\\x14\\\\xc8\\\\xf1?\\'\\np436\\ntp437\\nRp438\\nsg20\\nI50\\nsg21\\ng3\\n(g7\\nS\\'3333\\\\xf3\\\\x9e\\\\xb2@\\'\\np439\\ntp440\\nRp441\\nsg25\\ng3\\n(g7\\nS\\'\\\\x89\\\\xd3\\\\x86F\\\\xa0:?@\\'\\np442\\ntp443\\nRp444\\nsg29\\nI0\\nsa(dp445\\ng16\\ng3\\n(g7\\nS\\'|wb\\\\xf4\\\\xc4\\\\x0e\\\\xf7?\\'\\np446\\ntp447\\nRp448\\nsg20\\nI100\\nsg21\\ng3\\n(g7\\nS\\'\\\\x00\\\\x00\\\\x00\\\\x00\\\\xc0G\\\\xb9@\\'\\np449\\ntp450\\nRp451\\nsg25\\ng3\\n(g7\\nS\\'\\\\xb5\\\\x8d\\\\xb9R\\\\xd1SH@\\'\\np452\\ntp453\\nRp454\\nsg29\\nI0\\nsa(dp455\\ng16\\ng3\\n(g7\\nS\\'}\\\\x11/?S\\\\xfd\\\\xfa?\\'\\np456\\ntp457\\nRp458\\nsg20\\nI200\\nsg21\\ng3\\n(g7\\nS\\'\\\\xcd\\\\xcc\\\\xcc\\\\xcc,9\\\\xc0@\\'\\np459\\ntp460\\nRp461\\nsg25\\ng3\\n(g7\\nS\\'U\\\\x81\\\\xe5\\\\xf2wZP@\\'\\np462\\ntp463\\nRp464\\nsg29\\nI0\\nsa(dp465\\ng16\\ng3\\n(g7\\nS\\'\\\\xb8\\\\xbb^\\\\xf4\\\\x0cY\\\\x00@\\'\\np466\\ntp467\\nRp468\\nsg20\\nI300\\nsg21\\ng3\\n(g7\\nS\\'\\\\x9a\\\\x99\\\\x99\\\\x99\\\\xf9\\\\x8c\\\\xc3@\\'\\np469\\ntp470\\nRp471\\nsg25\\ng3\\n(g7\\nS\\'\\\\x80\\\\x9d\\\\xa3\\\\x1b\\\\xc8aQ@\\'\\np472\\ntp473\\nRp474\\nsg29\\nI0\\nsa(dp475\\ng16\\ng3\\n(g7\\nS\\'\\\\xa9R\\\\xce\\\\xab\\\\xe7\\\\xc6\\\\x01@\\'\\np476\\ntp477\\nRp478\\nsg20\\nI400\\nsg21\\ng3\\n(g7\\nS\\'\\\\x9a\\\\x99\\\\x99\\\\x99y\\\\xa4\\\\xc5@\\'\\np479\\ntp480\\nRp481\\nsg25\\ng3\\n(g7\\nS\\'R\\\\x11\\\\xafq\"\\\\x8dS@\\'\\np482\\ntp483\\nRp484\\nsg29\\nI0\\nsa(dp485\\ng16\\ng3\\n(g7\\nS\\'\\\\x02\\\\x82h\\\\xe6\\\\xfcX\\\\x02@\\'\\np486\\ntp487\\nRp488\\nsg20\\nI500\\nsg21\\ng3\\n(g7\\nS\\'ffff\\\\xe6\\\\xb4\\\\xc8@\\'\\np489\\ntp490\\nRp491\\nsg25\\ng3\\n(g7\\nS\\'\\\\xac\\\\xf2XE\\\\xc7\\\\xbdV@\\'\\np492\\ntp493\\nRp494\\nsg29\\nI0\\nsa(dp495\\ng16\\ng3\\n(g7\\nS\\'1<n2\\\\xd1,\\\\x02@\\'\\np496\\ntp497\\nRp498\\nsg20\\nI600\\nsg21\\ng3\\n(g7\\nS\\'\\\\x9a\\\\x99\\\\x99\\\\x99\\\\xd9\\\\xfa\\\\xc9@\\'\\np499\\ntp500\\nRp501\\nsg25\\ng3\\n(g7\\nS\\'\\\\x9b\\\\r\\\\xb7O\\\\xf4\\\\xc9V@\\'\\np502\\ntp503\\nRp504\\nsg29\\nI0\\nsa(dp505\\ng16\\ng3\\n(g7\\nS\\'\\\\xd8\\\\x1e\\\\x85\\\\x1c\\\\xb2\\\\x02\\\\x03@\\'\\np506\\ntp507\\nRp508\\nsg20\\nI750\\nsg21\\ng3\\n(g7\\nS\\'3333sR\\\\xcc@\\'\\np509\\ntp510\\nRp511\\nsg25\\ng3\\n(g7\\nS\\')\\\\x8f\\\\x90I\\\\xec&Y@\\'\\np512\\ntp513\\nRp514\\nsg29\\nI0\\nsa(dp515\\ng16\\ng3\\n(g7\\nS\\'5.\\\\xdd\\\\x83z>\\\\x05@\\'\\np516\\ntp517\\nRp518\\nsg20\\nI1000\\nsg21\\ng3\\n(g7\\nS\\'\\\\x9a\\\\x99\\\\x99\\\\x99\\\\xf9\\\\x1e\\\\xd0@\\'\\np519\\ntp520\\nRp521\\nsg25\\ng3\\n(g7\\nS\\'\\\\x98\\\\xb6W\\\\x87%\\\\x85\\\\\\\\@\\'\\np522\\ntp523\\nRp524\\nsg29\\nI0\\nsa(dp525\\ng16\\ng3\\n(g7\\nS\\'cU\\\\x11\\\\xf9z\\\\x9e\\\\x05@\\'\\np526\\ntp527\\nRp528\\nsg20\\nI1250\\nsg21\\ng3\\n(g7\\nS\\'\\\\xcd\\\\xcc\\\\xcc\\\\xcc\\\\xfc\\\\x17\\\\xd1@\\'\\np529\\ntp530\\nRp531\\nsg25\\ng3\\n(g7\\nS\\'q\\\\xe3\\\\xcf\\\\x01gH_@\\'\\np532\\ntp533\\nRp534\\nsg29\\nI0\\nsa(dp535\\ng16\\ng3\\n(g7\\nS\\'4^4t\\\\x12\\\\n\\\\x06@\\'\\np536\\ntp537\\nRp538\\nsg20\\nI1500\\nsg21\\ng3\\n(g7\\nS\\'ffff\\\\xa6\\\\xc8\\\\xd1@\\'\\np539\\ntp540\\nRp541\\nsg25\\ng3\\n(g7\\nS\\'#k\\\\xd2mG=`@\\'\\np542\\ntp543\\nRp544\\nsg29\\nI0\\nsa(dp545\\ng16\\ng3\\n(g7\\nS\\']e\\\\xe9XF9\\\\x07@\\'\\np546\\ntp547\\nRp548\\nsg20\\nI2000\\nsg21\\ng3\\n(g7\\nS\\'3333Ch\\\\xd3@\\'\\np549\\ntp550\\nRp551\\nsg25\\ng3\\n(g7\\nS\\'\\\\x95\\\\xe8\\\\x85\\\\x98\\\\xbd\\\\xd8a@\\'\\np552\\ntp553\\nRp554\\nsg29\\nI0\\nsasa(dp555\\ng2\\ng3\\n(g7\\nS\\'\\\\x9a\\\\x99\\\\x99\\\\x99\\\\x99\\\\x99\\\\xd9?\\'\\np556\\ntp557\\nRp558\\nsg13\\n(lp559\\n(dp560\\ng16\\ng3\\n(g7\\nS\\'$\\\\xe17(\\\\xb2U\\\\xe8?\\'\\np561\\ntp562\\nRp563\\nsg20\\nI20\\nsg21\\ng3\\n(g7\\nS\\'\\\\x00\\\\x00\\\\x00\\\\x00\\\\x009\\\\xad@\\'\\np564\\ntp565\\nRp566\\nsg25\\ng3\\n(g7\\nS\\'\\\\x7fe\\\\xf49k\\\\xf28@\\'\\np567\\ntp568\\nRp569\\nsg29\\nI0\\nsa(dp570\\ng16\\ng3\\n(g7\\nS\\'\\\\xfaek\\\\xf1\\\\t\\\\xe0\\\\xf1?\\'\\np571\\ntp572\\nRp573\\nsg20\\nI50\\nsg21\\ng3\\n(g7\\nS\\'ffff&\\\\xee\\\\xb2@\\'\\np574\\ntp575\\nRp576\\nsg25\\ng3\\n(g7\\nS\\'c+\\\\x84/\\\\xbd\\\\x07@@\\'\\np577\\ntp578\\nRp579\\nsg29\\nI0\\nsa(dp580\\ng16\\ng3\\n(g7\\nS\\'\\\\xc8j\\\\x85\\\\x7f\\\\x1f\\\\xd0\\\\xf6?\\'\\np581\\ntp582\\nRp583\\nsg20\\nI100\\nsg21\\ng3\\n(g7\\nS\\'\\\\xcd\\\\xcc\\\\xcc\\\\xcc\\\\xcc\\\\xf8\\\\xb8@\\'\\np584\\ntp585\\nRp586\\nsg25\\ng3\\n(g7\\nS\\'\\\\xd5E\\\\xbc\\\\x91nPH@\\'\\np587\\ntp588\\nRp589\\nsg29\\nI0\\nsa(dp590\\ng16\\ng3\\n(g7\\nS\\'\\\\xf6\\\\xbe\\\\x95]\\\\xd6\\\\x91\\\\xfb?\\'\\np591\\ntp592\\nRp593\\nsg20\\nI200\\nsg21\\ng3\\n(g7\\nS\\'\\\\x9a\\\\x99\\\\x99\\\\x99\\\\xb9L\\\\xc0@\\'\\np594\\ntp595\\nRp596\\nsg25\\ng3\\n(g7\\nS\\'\\\\xd3\\\\xccbF\\\\x93uP@\\'\\np597\\ntp598\\nRp599\\nsg29\\nI0\\nsa(dp600\\ng16\\ng3\\n(g7\\nS\\'>\\\\xd6\\\\x87\\\\xd0\\\\xd6c\\\\x00@\\'\\np601\\ntp602\\nRp603\\nsg20\\nI300\\nsg21\\ng3\\n(g7\\nS\\'3333\\\\xb3\\\\xa7\\\\xc3@\\'\\np604\\ntp605\\nRp606\\nsg25\\ng3\\n(g7\\nS\\'\\\\xcb\\\\x94{\\\\xc6u\\\\xebQ@\\'\\np607\\ntp608\\nRp609\\nsg29\\nI0\\nsa(dp610\\ng16\\ng3\\n(g7\\nS\\'\\\\x18\\\\x03i/*M\\\\x01@\\'\\np611\\ntp612\\nRp613\\nsg20\\nI400\\nsg21\\ng3\\n(g7\\nS\\'ffffF\\\\n\\\\xc6@\\'\\np614\\ntp615\\nRp616\\nsg25\\ng3\\n(g7\\nS\"j\\'\\\\xa6Q\\\\xa3\\\\xf2S@\"\\np617\\ntp618\\nRp619\\nsg29\\nI0\\nsa(dp620\\ng16\\ng3\\n(g7\\nS\\'\\\\xc4+I\\\\x85\\\\xb6\\\\xfa\\\\x01@\\'\\np621\\ntp622\\nRp623\\nsg20\\nI500\\nsg21\\ng3\\n(g7\\nS\\'\\\\xcd\\\\xcc\\\\xcc\\\\xcc\\\\xacx\\\\xc8@\\'\\np624\\ntp625\\nRp626\\nsg25\\ng3\\n(g7\\nS\\'\\\\x87\\\\x08\\\\xfbh\\\\xd7\\\\xd7V@\\'\\np627\\ntp628\\nRp629\\nsg29\\nI0\\nsa(dp630\\ng16\\ng3\\n(g7\\nS\\'\\\\x90\\\\x17\\\\x91T\\\\x82P\\\\x02@\\'\\np631\\ntp632\\nRp633\\nsg20\\nI600\\nsg21\\ng3\\n(g7\\nS\\'\\\\x00\\\\x00\\\\x00\\\\x00\\\\x80g\\\\xca@\\'\\np634\\ntp635\\nRp636\\nsg25\\ng3\\n(g7\\nS\\'\\\\x19\\\\xf2\\\\x1e\\\\xbc\\\\x0e\\\\xfeV@\\'\\np637\\ntp638\\nRp639\\nsg29\\nI0\\nsa(dp640\\ng16\\ng3\\n(g7\\nS\\'U\\\\xf1\\\\xac\\\\x99\\\\x84*\\\\x03@\\'\\np641\\ntp642\\nRp643\\nsg20\\nI750\\nsg21\\ng3\\n(g7\\nS\\'ffff\\\\x86j\\\\xcc@\\'\\np644\\ntp645\\nRp646\\nsg25\\ng3\\n(g7\\nS\\'O\\\\xf5\\\\xa1\\\\x9a\\\\xf5KY@\\'\\np647\\ntp648\\nRp649\\nsg29\\nI0\\nsa(dp650\\ng16\\ng3\\n(g7\\nS\\'\\\\xfaSgY\\\\x98;\\\\x05@\\'\\np651\\ntp652\\nRp653\\nsg20\\nI1000\\nsg21\\ng3\\n(g7\\nS\\'ffff\\\\x169\\\\xd0@\\'\\np654\\ntp655\\nRp656\\nsg25\\ng3\\n(g7\\nS\\'~\\\\xed\\\\xea\\\\xa51\\\\xcc\\\\\\\\@\\'\\np657\\ntp658\\nRp659\\nsg29\\nI0\\nsa(dp660\\ng16\\ng3\\n(g7\\nS\\'\\\\x8f8\\\\x97\\\\x81;\\\\x8e\\\\x05@\\'\\np661\\ntp662\\nRp663\\nsg20\\nI1250\\nsg21\\ng3\\n(g7\\nS\\'ffff6(\\\\xd1@\\'\\np664\\ntp665\\nRp666\\nsg25\\ng3\\n(g7\\nS\\'\\\\x11ya\\\\x02\\\\xe4a_@\\'\\np667\\ntp668\\nRp669\\nsg29\\nI0\\nsa(dp670\\ng16\\ng3\\n(g7\\nS\\'kVB\\\\xf8\\\\xeb8\\\\x06@\\'\\np671\\ntp672\\nRp673\\nsg20\\nI1500\\nsg21\\ng3\\n(g7\\nS\\'ffff\\\\x96\\\\xe6\\\\xd1@\\'\\np674\\ntp675\\nRp676\\nsg25\\ng3\\n(g7\\nS\\'\\\\x9eR\\\\xc5k\\\\xaaJ`@\\'\\np677\\ntp678\\nRp679\\nsg29\\nI0\\nsa(dp680\\ng16\\ng3\\n(g7\\nS\\'\\\\x0eb\\\\xa9\\\\xa6\\\\x01#\\\\x07@\\'\\np681\\ntp682\\nRp683\\nsg20\\nI2000\\nsg21\\ng3\\n(g7\\nS\\'3333SX\\\\xd3@\\'\\np684\\ntp685\\nRp686\\nsg25\\ng3\\n(g7\\nS\\'\\\\x8d8\\\\x8c7\\\\x7f\\\\xd3a@\\'\\np687\\ntp688\\nRp689\\nsg29\\nI0\\nsasa(dp690\\ng2\\ng3\\n(g7\\nS\\'\\\\x00\\\\x00\\\\x00\\\\x00\\\\x00\\\\x00\\\\xe0?\\'\\np691\\ntp692\\nRp693\\nsg13\\n(lp694\\n(dp695\\ng16\\ng3\\n(g7\\nS\\'$\\\\xe17(\\\\xb2U\\\\xe8?\\'\\np696\\ntp697\\nRp698\\nsg20\\nI20\\nsg21\\ng3\\n(g7\\nS\\'\\\\x00\\\\x00\\\\x00\\\\x00\\\\x009\\\\xad@\\'\\np699\\ntp700\\nRp701\\nsg25\\ng3\\n(g7\\nS\\'\\\\x7fe\\\\xf49k\\\\xf28@\\'\\np702\\ntp703\\nRp704\\nsg29\\nI0\\nsa(dp705\\ng16\\ng3\\n(g7\\nS\\'j\\\\x04E\\\\xdc\\\\\\\\\\\\xd7\\\\xf2?\\'\\np706\\ntp707\\nRp708\\nsg20\\nI50\\nsg21\\ng3\\n(g7\\nS\\'3333\\\\xb3\\\\x11\\\\xb3@\\'\\np709\\ntp710\\nRp711\\nsg25\\ng3\\n(g7\\nS\\'\\\\xd2\\\\xae\\\\xdbQ\\\\xc7\\\\x8b@@\\'\\np712\\ntp713\\nRp714\\nsg29\\nI0\\nsa(dp715\\ng16\\ng3\\n(g7\\nS\\'\\\\x07\\\\xe9\\\\x06p\\\\xb1\\\\x0c\\\\xf7?\\'\\np716\\ntp717\\nRp718\\nsg20\\nI100\\nsg21\\ng3\\n(g7\\nS\\'3333\\\\xf35\\\\xb9@\\'\\np719\\ntp720\\nRp721\\nsg25\\ng3\\n(g7\\nS\\'QS\\\\xf8\\\\x1cI\\\\x9aH@\\'\\np722\\ntp723\\nRp724\\nsg29\\nI0\\nsa(dp725\\ng16\\ng3\\n(g7\\nS\\'f/\\\\x87\\\\xf8cv\\\\xfc?\\'\\np726\\ntp727\\nRp728\\nsg20\\nI200\\nsg21\\ng3\\n(g7\\nS\\'33333z\\\\xc0@\\'\\np729\\ntp730\\nRp731\\nsg25\\ng3\\n(g7\\nS\\'\\\\xc7\\\\xbb\\\\x9a~\\\\xd8zP@\\'\\np732\\ntp733\\nRp734\\nsg29\\nI0\\nsa(dp735\\ng16\\ng3\\n(g7\\nS\\'A\\\\x95O\\\\xcb\\\\x83Q\\\\x00@\\'\\np736\\ntp737\\nRp738\\nsg20\\nI300\\nsg21\\ng3\\n(g7\\nS\\'3333\\\\xf3\\\\xa5\\\\xc3@\\'\\np739\\ntp740\\nRp741\\nsg25\\ng3\\n(g7\\nS\\'\\\\xff\\\\x16*6\\\\xca\\\\xc7Q@\\'\\np742\\ntp743\\nRp744\\nsg29\\nI0\\nsa(dp745\\ng16\\ng3\\n(g7\\nS\\'*8\\\\x88\\\\xe3W\\\\x7f\\\\x01@\\'\\np746\\ntp747\\nRp748\\nsg20\\nI400\\nsg21\\ng3\\n(g7\\nS\\'\\\\x9a\\\\x99\\\\x99\\\\x99\\\\xf9C\\\\xc6@\\'\\np749\\ntp750\\nRp751\\nsg25\\ng3\\n(g7\\nS\\'h\\\\xc9\\\\xca\\\\xbalLT@\\'\\np752\\ntp753\\nRp754\\nsg29\\nI0\\nsa(dp755\\ng16\\ng3\\n(g7\\nS\\'/(\\\\xb2\\\\x92\\\\xdc\\\\x06\\\\x02@\\'\\np756\\ntp757\\nRp758\\nsg20\\nI500\\nsg21\\ng3\\n(g7\\nS\\'3333\\\\x93]\\\\xc8@\\'\\np759\\ntp760\\nRp761\\nsg25\\ng3\\n(g7\\nS\\'F\\\\x84\\\\x06\\\\xf4\\\\xe8\\\\xacV@\\'\\np762\\ntp763\\nRp764\\nsg29\\nI0\\nsa(dp765\\ng16\\ng3\\n(g7\\nS\\'\\\\xd1f\\\\x1e\\\\xff\\\\x00d\\\\x02@\\'\\np766\\ntp767\\nRp768\\nsg20\\nI600\\nsg21\\ng3\\n(g7\\nS\\'\\\\xcd\\\\xcc\\\\xcc\\\\xcc\\\\xec\\\\xf3\\\\xca@\\'\\np769\\ntp770\\nRp771\\nsg25\\ng3\\n(g7\\nS\\'\\\\xfcS\\\\xb7\\\\x84\\\\xd4\\\\x9eW@\\'\\np772\\ntp773\\nRp774\\nsg29\\nI0\\nsa(dp775\\ng16\\ng3\\n(g7\\nS\\'\\\\xf4\\\\xd1`\\\\xfb\\\\x89<\\\\x03@\\'\\np776\\ntp777\\nRp778\\nsg20\\nI750\\nsg21\\ng3\\n(g7\\nS\\'\\\\xcd\\\\xcc\\\\xcc\\\\xccl\\\\xbe\\\\xcc@\\'\\np779\\ntp780\\nRp781\\nsg25\\ng3\\n(g7\\nS\\'\\\\xb1\\\\xb7`\\\\xdf\\\\xd3oY@\\'\\np782\\ntp783\\nRp784\\nsg29\\nI0\\nsa(dp785\\ng16\\ng3\\n(g7\\nS\\'\\\\xe9\\\\xef\\\\xc3\\\\xbdsh\\\\x05@\\'\\np786\\ntp787\\nRp788\\nsg20\\nI1000\\nsg21\\ng3\\n(g7\\nS\\'\\\\x00\\\\x00\\\\x00\\\\x00\\\\x80J\\\\xd0@\\'\\np789\\ntp790\\nRp791\\nsg25\\ng3\\n(g7\\nS\\'\\\\xf7\\\\xb2\\\\x7f<[\\\\xcb\\\\\\\\@\\'\\np792\\ntp793\\nRp794\\nsg29\\nI0\\nsa(dp795\\ng16\\ng3\\n(g7\\nS\\'>\\\\n\\\\x7f\\\\xa8\\\\xd9r\\\\x05@\\'\\np796\\ntp797\\nRp798\\nsg20\\nI1250\\nsg21\\ng3\\n(g7\\nS\\'\\\\xcd\\\\xcc\\\\xcc\\\\xccLR\\\\xd1@\\'\\np799\\ntp800\\nRp801\\nsg25\\ng3\\n(g7\\nS\\'\\\\x8b\\\\x0f\\\\xf9\\\\x14m\\\\xa1_@\\'\\np802\\ntp803\\nRp804\\nsg29\\nI0\\nsa(dp805\\ng16\\ng3\\n(g7\\nS\\'WS7\\\\xf0w@\\\\x06@\\'\\np806\\ntp807\\nRp808\\nsg20\\nI1500\\nsg21\\ng3\\n(g7\\nS\\'3333\\\\x93\\\\x19\\\\xd2@\\'\\np809\\ntp810\\nRp811\\nsg25\\ng3\\n(g7\\nS\\'\\\\x08\\\\xf6\\\\n\\\\x9f\\\\x93f`@\\'\\np812\\ntp813\\nRp814\\nsg29\\nI0\\nsa(dp815\\ng16\\ng3\\n(g7\\nS\\'j\\\\x8b\\\\x86I\\\\xc4:\\\\x07@\\'\\np816\\ntp817\\nRp818\\nsg20\\nI2000\\nsg21\\ng3\\n(g7\\nS\\'ffff6j\\\\xd3@\\'\\np819\\ntp820\\nRp821\\nsg25\\ng3\\n(g7\\nS\\'\\\\xc1\\\\x7f-T\\\\xbd\\\\xe1a@\\'\\np822\\ntp823\\nRp824\\nsg29\\nI0\\nsasa(dp825\\ng2\\ng3\\n(g7\\nS\\'433333\\\\xe3?\\'\\np826\\ntp827\\nRp828\\nsg13\\n(lp829\\n(dp830\\ng16\\ng3\\n(g7\\nS\\'\\\\xee\":\\\\xda\\\\xe3\\\\xbc\\\\xe7?\\'\\np831\\ntp832\\nRp833\\nsg20\\nI20\\nsg21\\ng3\\n(g7\\nS\\'\\\\x00\\\\x00\\\\x00\\\\x00\\\\x00\\\\xfe\\\\xad@\\'\\np834\\ntp835\\nRp836\\nsg25\\ng3\\n(g7\\nS\\'d5\\\\x863Q\\\\x9e8@\\'\\np837\\ntp838\\nRp839\\nsg29\\nI0\\nsa(dp840\\ng16\\ng3\\n(g7\\nS\\'\\\\xf1\\\\x19\\\\x1f&\\\\xdd\\\\x18\\\\xf3?\\'\\np841\\ntp842\\nRp843\\nsg20\\nI50\\nsg21\\ng3\\n(g7\\nS\\'3333\\\\xf3\\\\xab\\\\xb3@\\'\\np844\\ntp845\\nRp846\\nsg25\\ng3\\n(g7\\nS\"<m\\\\xc9|\\\\x1a\\'A@\"\\np847\\ntp848\\nRp849\\nsg29\\nI0\\nsa(dp850\\ng16\\ng3\\n(g7\\nS\\'\\\\xff\\\\xff\\\\x94\\\\x1a\\\\x059\\\\xf8?\\'\\np851\\ntp852\\nRp853\\nsg20\\nI100\\nsg21\\ng3\\n(g7\\nS\\'\\\\x9a\\\\x99\\\\x99\\\\x99\\\\x99\\\\xa8\\\\xba@\\'\\np854\\ntp855\\nRp856\\nsg25\\ng3\\n(g7\\nS\\'\\\\x0cd\\\\xa8\\\\xab\\\\x172J@\\'\\np857\\ntp858\\nRp859\\nsg29\\nI0\\nsa(dp860\\ng16\\ng3\\n(g7\\nS\\'\\\\x10\\\\x0c\\\\xe0y\\\\xccm\\\\xfd?\\'\\np861\\ntp862\\nRp863\\nsg20\\nI200\\nsg21\\ng3\\n(g7\\nS\\'ffff\\\\x86t\\\\xc0@\\'\\np864\\ntp865\\nRp866\\nsg25\\ng3\\n(g7\\nS\\'7\\\\x15y\\\\xa7\\\\xc9\\\\x84P@\\'\\np867\\ntp868\\nRp869\\nsg29\\nI0\\nsa(dp870\\ng16\\ng3\\n(g7\\nS\\'%\\\\xbe\\\\x8e\\\\x98o\\\\xe6\\\\xff?\\'\\np871\\ntp872\\nRp873\\nsg20\\nI300\\nsg21\\ng3\\n(g7\\nS\\'\\\\x00\\\\x00\\\\x00\\\\x00 \\\\xdf\\\\xc3@\\'\\np874\\ntp875\\nRp876\\nsg25\\ng3\\n(g7\\nS\\'[N\\\\x86\\\\xf0J\\\\xe6Q@\\'\\np877\\ntp878\\nRp879\\nsg29\\nI0\\nsa(dp880\\ng16\\ng3\\n(g7\\nS\\'#\\\\xfc\\\\xf3\\\\xd3jy\\\\x01@\\'\\np881\\ntp882\\nRp883\\nsg20\\nI400\\nsg21\\ng3\\n(g7\\nS\\'\\\\x9a\\\\x99\\\\x99\\\\x99\\\\xf9u\\\\xc6@\\'\\np884\\ntp885\\nRp886\\nsg25\\ng3\\n(g7\\nS\\'eb\\\\x10t`\\\\xa6T@\\'\\np887\\ntp888\\nRp889\\nsg29\\nI0\\nsa(dp890\\ng16\\ng3\\n(g7\\nS\\'\\\\x1b;\\\\xb0\\\\xbf\\\\x86\\\\xe8\\\\x02@\\'\\np891\\ntp892\\nRp893\\nsg20\\nI500\\nsg21\\ng3\\n(g7\\nS\\'\\\\x9a\\\\x99\\\\x99\\\\x99\\\\x99I\\\\xc9@\\'\\np894\\ntp895\\nRp896\\nsg25\\ng3\\n(g7\\nS\\'[\\\\xa19x;\\\\xfeU@\\'\\np897\\ntp898\\nRp899\\nsg29\\nI0\\nsa(dp900\\ng16\\ng3\\n(g7\\nS\\'\\\\x1cc\\\\xd4\\\\x9c\\\\xbe\\\\x07\\\\x03@\\'\\np901\\ntp902\\nRp903\\nsg20\\nI600\\nsg21\\ng3\\n(g7\\nS\\'3333\\\\x13.\\\\xcb@\\'\\np904\\ntp905\\nRp906\\nsg25\\ng3\\n(g7\\nS\\'\\\\xcd\\\\xe6\\\\xad\\\\xff\\\\xfe\\\\xe2W@\\'\\np907\\ntp908\\nRp909\\nsg29\\nI0\\nsa(dp910\\ng16\\ng3\\n(g7\\nS\\'\\\\x01\\\\xdb\\\\x15\\\\xba\\\\xf0\\\\x87\\\\x03@\\'\\np911\\ntp912\\nRp913\\nsg20\\nI750\\nsg21\\ng3\\n(g7\\nS\\'\\\\x9a\\\\x99\\\\x99\\\\x99Y\\\\x03\\\\xcd@\\'\\np914\\ntp915\\nRp916\\nsg25\\ng3\\n(g7\\nS\\'\\\\xc8\\\\xab\\\\x19\\\\xf7\\\\x8flY@\\'\\np917\\ntp918\\nRp919\\nsg29\\nI0\\nsa(dp920\\ng16\\ng3\\n(g7\\nS\\'.\\\\x1bW9\\\\x8e?\\\\x05@\\'\\np921\\ntp922\\nRp923\\nsg20\\nI1000\\nsg21\\ng3\\n(g7\\nS\\'\\\\x9a\\\\x99\\\\x99\\\\x99\\\\x99>\\\\xd0@\\'\\np924\\ntp925\\nRp926\\nsg25\\ng3\\n(g7\\nS\\'\\\\x80\\\\x8b\\\\x11\\\\xbeF\\\\xca\\\\\\\\@\\'\\np927\\ntp928\\nRp929\\nsg29\\nI0\\nsa(dp930\\ng16\\ng3\\n(g7\\nS\\'\\\\x0fWI\\\\x11=\\\\xd0\\\\x05@\\'\\np931\\ntp932\\nRp933\\nsg20\\nI1250\\nsg21\\ng3\\n(g7\\nS\\'3333\\\\xe3d\\\\xd1@\\'\\np934\\ntp935\\nRp936\\nsg25\\ng3\\n(g7\\nS\\'ho\\\\xaa\\\\x1aM\\\\xb2_@\\'\\np937\\ntp938\\nRp939\\nsg29\\nI0\\nsa(dp940\\ng16\\ng3\\n(g7\\nS\\'\\\\xfe\\\\xf6\\\\x19\\\\x87:S\\\\x06@\\'\\np941\\ntp942\\nRp943\\nsg20\\nI1500\\nsg21\\ng3\\n(g7\\nS\\'3333S\\\\x1e\\\\xd2@\\'\\np944\\ntp945\\nRp946\\nsg25\\ng3\\n(g7\\nS\\'C\\\\xb7\\\\xb7]!s`@\\'\\np947\\ntp948\\nRp949\\nsg29\\nI0\\nsa(dp950\\ng16\\ng3\\n(g7\\nS\\' \\\\xef\\\\xeeKx\\\\xf3\\\\x07@\\'\\np951\\ntp952\\nRp953\\nsg20\\nI2000\\nsg21\\ng3\\n(g7\\nS\\'ffffF~\\\\xd3@\\'\\np954\\ntp955\\nRp956\\nsg25\\ng3\\n(g7\\nS\\'f\\\\x91\"\\\\xda\\\\x84\\\\xefa@\\'\\np957\\ntp958\\nRp959\\nsg29\\nI0\\nsasa(dp960\\ng2\\ng3\\n(g7\\nS\\'gfffff\\\\xe6?\\'\\np961\\ntp962\\nRp963\\nsg13\\n(lp964\\n(dp965\\ng16\\ng3\\n(g7\\nS\\'n\\\\x8d\\\\x7fQo\\\\xb7\\\\xe7?\\'\\np966\\ntp967\\nRp968\\nsg20\\nI20\\nsg21\\ng3\\n(g7\\nS\\'\\\\xcd\\\\xcc\\\\xcc\\\\xccL\\\\xc0\\\\xad@\\'\\np969\\ntp970\\nRp971\\nsg25\\ng3\\n(g7\\nS\\'\\\\xb2Hk\\\\xe1\\\\x1d\\\\x848@\\'\\np972\\ntp973\\nRp974\\nsg29\\nI0\\nsa(dp975\\ng16\\ng3\\n(g7\\nS\\'\\\\xfaO5\\\\xb8/.\\\\xf2?\\'\\np976\\ntp977\\nRp978\\nsg20\\nI50\\nsg21\\ng3\\n(g7\\nS\\'33333\\\\xb1\\\\xb3@\\'\\np979\\ntp980\\nRp981\\nsg25\\ng3\\n(g7\\nS\\'\\\\xfd\\\\xee4\\\\x80\\\\xbb5A@\\'\\np982\\ntp983\\nRp984\\nsg29\\nI0\\nsa(dp985\\ng16\\ng3\\n(g7\\nS\\'t\\\\x0e2\"\"\\\\xc6\\\\xf7?\\'\\np986\\ntp987\\nRp988\\nsg20\\nI100\\nsg21\\ng3\\n(g7\\nS\\'ffff\\\\xe68\\\\xbb@\\'\\np989\\ntp990\\nRp991\\nsg25\\ng3\\n(g7\\nS\\'\\\\xefX\\\\x08N\\\\x0eiK@\\'\\np992\\ntp993\\nRp994\\nsg29\\nI0\\nsa(dp995\\ng16\\ng3\\n(g7\\nS\\'\\\\n_\\\\x91\\\\x06\\\\x87,\\\\xfc?\\'\\np996\\ntp997\\nRp998\\nsg20\\nI200\\nsg21\\ng3\\n(g7\\nS\\'\\\\xcd\\\\xcc\\\\xcc\\\\xcc\\\\x8c\\\\xb9\\\\xc0@\\'\\np999\\ntp1000\\nRp1001\\nsg25\\ng3\\n(g7\\nS\\'\\\\xfa\\\\xa3\\\\xba\\\\xb7\\\\x1a\\\\xb4P@\\'\\np1002\\ntp1003\\nRp1004\\nsg29\\nI0\\nsa(dp1005\\ng16\\ng3\\n(g7\\nS\\'\\\\x8a\\\\x80\\\\x00\\\\x93n\\\\x15\\\\x00@\\'\\np1006\\ntp1007\\nRp1008\\nsg20\\nI300\\nsg21\\ng3\\n(g7\\nS\\'\\\\x00\\\\x00\\\\x00\\\\x00`\\\\x8b\\\\xc4@\\'\\np1009\\ntp1010\\nRp1011\\nsg25\\ng3\\n(g7\\nS\\'\\\\x9c\\\\x81\\\\xe7\\\\x97B\\\\xe0R@\\'\\np1012\\ntp1013\\nRp1014\\nsg29\\nI0\\nsa(dp1015\\ng16\\ng3\\n(g7\\nS\\'\\\\xcb@P\\\\x00\\\\xce\\\\xf1\\\\x01@\\'\\np1016\\ntp1017\\nRp1018\\nsg20\\nI400\\nsg21\\ng3\\n(g7\\nS\\'\\\\x9a\\\\x99\\\\x99\\\\x99\\\\xf9C\\\\xc7@\\'\\np1019\\ntp1020\\nRp1021\\nsg25\\ng3\\n(g7\\nS\\'\\\\xfd\\\\x8c~\\\\xeeu\\\\x1bU@\\'\\np1022\\ntp1023\\nRp1024\\nsg29\\nI0\\nsa(dp1025\\ng16\\ng3\\n(g7\\nS\\'?\\\\xa4\\\\xe1\\\\xf5\\\\x8f\\\\xad\\\\x02@\\'\\np1026\\ntp1027\\nRp1028\\nsg20\\nI500\\nsg21\\ng3\\n(g7\\nS\\'\\\\x9a\\\\x99\\\\x99\\\\x99\\\\x19\\\\x9e\\\\xc9@\\'\\np1029\\ntp1030\\nRp1031\\nsg25\\ng3\\n(g7\\nS\\'\\\\xf9\\\\xc1\\\\xc8\\\\x99\\\\x07\\\\x8bV@\\'\\np1032\\ntp1033\\nRp1034\\nsg29\\nI0\\nsa(dp1035\\ng16\\ng3\\n(g7\\nS\\'\\\\xba6\\\\xb6\\\\x18\\\\xe1#\\\\x03@\\'\\np1036\\ntp1037\\nRp1038\\nsg20\\nI600\\nsg21\\ng3\\n(g7\\nS\\'3333\\\\xd3\\\\x89\\\\xcb@\\'\\np1039\\ntp1040\\nRp1041\\nsg25\\ng3\\n(g7\\nS\\'\\\\x13\\\\x8d\\\\xbe^\\\\xacWX@\\'\\np1042\\ntp1043\\nRp1044\\nsg29\\nI0\\nsa(dp1045\\ng16\\ng3\\n(g7\\nS\\'\\\\xd9H\\\\xba\\\\xbb\\\\xf2\\\\xc6\\\\x03@\\'\\np1046\\ntp1047\\nRp1048\\nsg20\\nI750\\nsg21\\ng3\\n(g7\\nS\\'\\\\x00\\\\x00\\\\x00\\\\x00\\\\xe0c\\\\xcd@\\'\\np1049\\ntp1050\\nRp1051\\nsg25\\ng3\\n(g7\\nS\\'\\\\xe3\\\\xa7(\\\\xbe\\\\t\\\\xf2Y@\\'\\np1052\\ntp1053\\nRp1054\\nsg29\\nI0\\nsa(dp1055\\ng16\\ng3\\n(g7\\nS\\'\\\\xfe\\\\xd8^\\\\x97\\\\xc4\\\\xb2\\\\x05@\\'\\np1056\\ntp1057\\nRp1058\\nsg20\\nI1000\\nsg21\\ng3\\n(g7\\nS\\'\\\\x00\\\\x00\\\\x00\\\\x00 \\\\xa0\\\\xd0@\\'\\np1059\\ntp1060\\nRp1061\\nsg25\\ng3\\n(g7\\nS\\'@\\\\xa0\\\\xbcJg\\\\xbb]@\\'\\np1062\\ntp1063\\nRp1064\\nsg29\\nI0\\nsa(dp1065\\ng16\\ng3\\n(g7\\nS\\'\\\\x1a\\\\x1c\\\\xa4fnE\\\\x06@\\'\\np1066\\ntp1067\\nRp1068\\nsg20\\nI1250\\nsg21\\ng3\\n(g7\\nS\\'\\\\xcd\\\\xcc\\\\xcc\\\\xcc,`\\\\xd1@\\'\\np1069\\ntp1070\\nRp1071\\nsg25\\ng3\\n(g7\\nS\\'1X\\\\xf9c;\\\\xda_@\\'\\np1072\\ntp1073\\nRp1074\\nsg29\\nI0\\nsa(dp1075\\ng16\\ng3\\n(g7\\nS\\'k\\\\x80\\\\xf9\\\\x90i\\\\xc5\\\\x06@\\'\\np1076\\ntp1077\\nRp1078\\nsg20\\nI1500\\nsg21\\ng3\\n(g7\\nS\\'\\\\x9a\\\\x99\\\\x99\\\\x99\\\\xb9g\\\\xd2@\\'\\np1079\\ntp1080\\nRp1081\\nsg25\\ng3\\n(g7\\nS\\'h\\\\xe8\\\\xea\\\\xa9.\\\\xc7`@\\'\\np1082\\ntp1083\\nRp1084\\nsg29\\nI0\\nsa(dp1085\\ng16\\ng3\\n(g7\\nS\"\\\\x8a\\\\xe9\\\\xc9\\\\xab\\'D\\\\x07@\"\\np1086\\ntp1087\\nRp1088\\nsg20\\nI2000\\nsg21\\ng3\\n(g7\\nS\\'ffff\\\\xd6\\\\x97\\\\xd3@\\'\\np1089\\ntp1090\\nRp1091\\nsg25\\ng3\\n(g7\\nS\\'\\\\xebE\\\\x82\\\\xe6\\\\x8a$b@\\'\\np1092\\ntp1093\\nRp1094\\nsg29\\nI0\\nsasa(dp1095\\ng2\\ng3\\n(g7\\nS\\'\\\\x9a\\\\x99\\\\x99\\\\x99\\\\x99\\\\x99\\\\xe9?\\'\\np1096\\ntp1097\\nRp1098\\nsg13\\n(lp1099\\n(dp1100\\ng16\\ng3\\n(g7\\nS\\'\\\\x16\\\\x0e\\\\xac=\\\\xab\\\\\\\\\\\\xeb?\\'\\np1101\\ntp1102\\nRp1103\\nsg20\\nI20\\nsg21\\ng3\\n(g7\\nS\\'\\\\x9a\\\\x99\\\\x99\\\\x99\\\\x99\\\\xa9\\\\xad@\\'\\np1104\\ntp1105\\nRp1106\\nsg25\\ng3\\n(g7\\nS\\'\\\\xaaR\\\\xd5\\\\xce\\\\x0f\\\\xa18@\\'\\np1107\\ntp1108\\nRp1109\\nsg29\\nI0\\nsa(dp1110\\ng16\\ng3\\n(g7\\nS\\'\\\\xa9R\\\\xf1\\\\x8e\\\\x89/\\\\xf3?\\'\\np1111\\ntp1112\\nRp1113\\nsg20\\nI50\\nsg21\\ng3\\n(g7\\nS\\'\\\\xcd\\\\xcc\\\\xcc\\\\xcc\\\\xcc\\\\xe9\\\\xb3@\\'\\np1114\\ntp1115\\nRp1116\\nsg25\\ng3\\n(g7\\nS\\'\\\\x037\\\\xd8\\\\xb0\\\\xa1.B@\\'\\np1117\\ntp1118\\nRp1119\\nsg29\\nI0\\nsa(dp1120\\ng16\\ng3\\n(g7\\nS\\'\\\\xc4\\\\xb7_4\\\\xd4F\\\\xf8?\\'\\np1121\\ntp1122\\nRp1123\\nsg20\\nI100\\nsg21\\ng3\\n(g7\\nS\\'3333\\\\xf3\\\\t\\\\xbc@\\'\\np1124\\ntp1125\\nRp1126\\nsg25\\ng3\\n(g7\\nS\\'d\\\\x98\\\\xae\\\\xd0\\\\x1e\\\\xf1K@\\'\\np1127\\ntp1128\\nRp1129\\nsg29\\nI0\\nsa(dp1130\\ng16\\ng3\\n(g7\\nS\\'pJ\\\\x06\\\\xd2\\\\x1c\\\\xe0\\\\xfc?\\'\\np1131\\ntp1132\\nRp1133\\nsg20\\nI200\\nsg21\\ng3\\n(g7\\nS\\'ffff\\\\x86\\\\x85\\\\xc1@\\'\\np1134\\ntp1135\\nRp1136\\nsg25\\ng3\\n(g7\\nS\\'\\\\x01r\\\\x01\\\\xbe\\\\xef_Q@\\'\\np1137\\ntp1138\\nRp1139\\nsg29\\nI0\\nsa(dp1140\\ng16\\ng3\\n(g7\\nS\\'\\\\xbe\\\\xb0H\\\\xa0\\\\xc0\\\\x80\\\\x00@\\'\\np1141\\ntp1142\\nRp1143\\nsg20\\nI300\\nsg21\\ng3\\n(g7\\nS\\'\\\\x00\\\\x00\\\\x00\\\\x00\\\\xa0\\\\x04\\\\xc6@\\'\\np1144\\ntp1145\\nRp1146\\nsg25\\ng3\\n(g7\\nS\\'\\\\xf2+C\\\\xda\\\\x02\\\\xe6S@\\'\\np1147\\ntp1148\\nRp1149\\nsg29\\nI0\\nsa(dp1150\\ng16\\ng3\\n(g7\\nS\\'\\\\xb8\\\\xce\\\\x84\\\\x87\\\\xda\\\\xcf\\\\x01@\\'\\np1151\\ntp1152\\nRp1153\\nsg20\\nI400\\nsg21\\ng3\\n(g7\\nS\\'\\\\xcd\\\\xcc\\\\xcc\\\\xcc\\\\x8c\\\\xe6\\\\xc7@\\'\\np1154\\ntp1155\\nRp1156\\nsg25\\ng3\\n(g7\\nS\\'\\\\xa3]\\\\xaf<\\\\xdb\\\\x02U@\\'\\np1157\\ntp1158\\nRp1159\\nsg29\\nI0\\nsa(dp1160\\ng16\\ng3\\n(g7\\nS\\'\\\\x99\\\\xebB\\\\xcb!%\\\\x03@\\'\\np1161\\ntp1162\\nRp1163\\nsg20\\nI500\\nsg21\\ng3\\n(g7\\nS\\'3333S\\\\x1f\\\\xca@\\'\\np1164\\ntp1165\\nRp1166\\nsg25\\ng3\\n(g7\\nS\\'{\\\\xcc\\\\xf8g\\\\xf1-W@\\'\\np1167\\ntp1168\\nRp1169\\nsg29\\nI0\\nsa(dp1170\\ng16\\ng3\\n(g7\\nS\\'\\\\x86\\\\x85\\\\xe9\\\\x97\\\\xbc=\\\\x03@\\'\\np1171\\ntp1172\\nRp1173\\nsg20\\nI600\\nsg21\\ng3\\n(g7\\nS\\'\\\\x00\\\\x00\\\\x00\\\\x00\\\\x80\\\\xc5\\\\xcb@\\'\\np1174\\ntp1175\\nRp1176\\nsg25\\ng3\\n(g7\\nS\\'\\\\x02\\\\xd2b\\\\xf2\\\\xa5\\\\xa9X@\\'\\np1177\\ntp1178\\nRp1179\\nsg29\\nI0\\nsa(dp1180\\ng16\\ng3\\n(g7\\nS\\'\\\\xac\\\\xc1F_\\\\xe7\\\\xdb\\\\x03@\\'\\np1181\\ntp1182\\nRp1183\\nsg20\\nI750\\nsg21\\ng3\\n(g7\\nS\\'\\\\x9a\\\\x99\\\\x99\\\\x99\\\\xf9\\\\n\\\\xce@\\'\\np1184\\ntp1185\\nRp1186\\nsg25\\ng3\\n(g7\\nS\\'\\\\x11\\\\xe0+\\\\xb3\\\\xcf~Z@\\'\\np1187\\ntp1188\\nRp1189\\nsg29\\nI0\\nsa(dp1190\\ng16\\ng3\\n(g7\\nS\\'\\\\xee\\\\xb2~\\\\xb2\\\\x98\\\\xa9\\\\x05@\\'\\np1191\\ntp1192\\nRp1193\\nsg20\\nI1000\\nsg21\\ng3\\n(g7\\nS\\'33333\\\\xb2\\\\xd0@\\'\\np1194\\ntp1195\\nRp1196\\nsg25\\ng3\\n(g7\\nS\\' iR\\\\xeay\\\\x84^@\\'\\np1197\\ntp1198\\nRp1199\\nsg29\\nI0\\nsa(dp1200\\ng16\\ng3\\n(g7\\nS\\'\\\\xfe\\\\xe1\\\\x92\\\\xe7\\\\x9a\\\\x00\\\\x07@\\'\\np1201\\ntp1202\\nRp1203\\nsg20\\nI1250\\nsg21\\ng3\\n(g7\\nS\\'3333\\\\xd3v\\\\xd1@\\'\\np1204\\ntp1205\\nRp1206\\nsg25\\ng3\\n(g7\\nS\\'h\\\\x01F\\\\xd4\"\\\\x17`@\\'\\np1207\\ntp1208\\nRp1209\\nsg29\\nI0\\nsa(dp1210\\ng16\\ng3\\n(g7\\nS\\'\\\\xb8C;!\\\\x19\\\\xde\\\\x06@\\'\\np1211\\ntp1212\\nRp1213\\nsg20\\nI1500\\nsg21\\ng3\\n(g7\\nS\\'\\\\xcd\\\\xcc\\\\xcc\\\\xccL\\\\xa0\\\\xd2@\\'\\np1214\\ntp1215\\nRp1216\\nsg25\\ng3\\n(g7\\nS\\'\\\\x1f?\\\\xe8\\\\x8a\\\\x9a\\\\xff`@\\'\\np1217\\ntp1218\\nRp1219\\nsg29\\nI0\\nsa(dp1220\\ng16\\ng3\\n(g7\\nS\\'\\\\x96\\\\xb9\\\\x05yY_\\\\x08@\\'\\np1221\\ntp1222\\nRp1223\\nsg20\\nI2000\\nsg21\\ng3\\n(g7\\nS\\'\\\\x00\\\\x00\\\\x00\\\\x00\\\\xe0\\\\xf2\\\\xd3@\\'\\np1224\\ntp1225\\nRp1226\\nsg25\\ng3\\n(g7\\nS\\'\\\\x16\\\\x80o$\\\\xe1\\\\x8fb@\\'\\np1227\\ntp1228\\nRp1229\\nsg29\\nI0\\nsasa(dp1230\\ng2\\ng3\\n(g7\\nS\\'\\\\xcd\\\\xcc\\\\xcc\\\\xcc\\\\xcc\\\\xcc\\\\xec?\\'\\np1231\\ntp1232\\nRp1233\\nsg13\\n(lp1234\\n(dp1235\\ng16\\ng3\\n(g7\\nS\\'\\\\x9dOG\\\\xa2.5\\\\xec?\\'\\np1236\\ntp1237\\nRp1238\\nsg20\\nI20\\nsg21\\ng3\\n(g7\\nS\\'\\\\x9a\\\\x99\\\\x99\\\\x99\\\\x99\\\\xf9\\\\xac@\\'\\np1239\\ntp1240\\nRp1241\\nsg25\\ng3\\n(g7\\nS\\'\\\\xc2\\\\t\\\\xe0 q08@\\'\\np1242\\ntp1243\\nRp1244\\nsg29\\nI0\\nsa(dp1245\\ng16\\ng3\\n(g7\\nS\\'\\\\x8cw\\\\x1df\\\\x0c8\\\\xf4?\\'\\np1246\\ntp1247\\nRp1248\\nsg20\\nI50\\nsg21\\ng3\\n(g7\\nS\\'ffff\\\\xe6\\\\xe0\\\\xb6@\\'\\np1249\\ntp1250\\nRp1251\\nsg25\\ng3\\n(g7\\nS\\'\\\\xd0Nw\\\\xb5e\\\\xe9E@\\'\\np1252\\ntp1253\\nRp1254\\nsg29\\nI0\\nsa(dp1255\\ng16\\ng3\\n(g7\\nS\\'\\\\xa5\\\\xa3\\\\xe6`\\\\x10\\\\xbb\\\\xf9?\\'\\np1256\\ntp1257\\nRp1258\\nsg20\\nI100\\nsg21\\ng3\\n(g7\\nS\\'ffff\\\\xa6\\\\xda\\\\xbf@\\'\\np1259\\ntp1260\\nRp1261\\nsg25\\ng3\\n(g7\\nS\\' \\\\x8ar8/\\\\x1bP@\\'\\np1262\\ntp1263\\nRp1264\\nsg29\\nI0\\nsa(dp1265\\ng16\\ng3\\n(g7\\nS\\'S\\\\r$\\\\xc7\\\\xa5\\\\xa6\\\\xfd?\\'\\np1266\\ntp1267\\nRp1268\\nsg20\\nI200\\nsg21\\ng3\\n(g7\\nS\\'\\\\x9a\\\\x99\\\\x99\\\\x99\\\\xf9c\\\\xc3@\\'\\np1269\\ntp1270\\nRp1271\\nsg25\\ng3\\n(g7\\nS\\'\\\\x9c\\\\xaa2\\\\x95#0S@\\'\\np1272\\ntp1273\\nRp1274\\nsg29\\nI0\\nsa(dp1275\\ng16\\ng3\\n(g7\\nS\\'\\\\xf2\\\\xecd2\\\\x16\\\\x12\\\\x01@\\'\\np1276\\ntp1277\\nRp1278\\nsg20\\nI300\\nsg21\\ng3\\n(g7\\nS\\'\\\\xcd\\\\xcc\\\\xcc\\\\xccL\\\\x06\\\\xc7@\\'\\np1279\\ntp1280\\nRp1281\\nsg25\\ng3\\n(g7\\nS\\'\\\\x97\\\\x08\\\\x0c^x|T@\\'\\np1282\\ntp1283\\nRp1284\\nsg29\\nI0\\nsa(dp1285\\ng16\\ng3\\n(g7\\nS\\'\\\\xb2\\\\xcc\\\\xdbY\\\\xcc\\\\x16\\\\x02@\\'\\np1286\\ntp1287\\nRp1288\\nsg20\\nI400\\nsg21\\ng3\\n(g7\\nS\\'3333\\\\xd3Y\\\\xc9@\\'\\np1289\\ntp1290\\nRp1291\\nsg25\\ng3\\n(g7\\nS\\'}N\\\\xc8\\\\x8fy\\\\x8fV@\\'\\np1292\\ntp1293\\nRp1294\\nsg29\\nI0\\nsa(dp1295\\ng16\\ng3\\n(g7\\nS\\'\\\\r>\\\\xba\\\\x8bKi\\\\x03@\\'\\np1296\\ntp1297\\nRp1298\\nsg20\\nI500\\nsg21\\ng3\\n(g7\\nS\\'33333\\\\x1b\\\\xcb@\\'\\np1299\\ntp1300\\nRp1301\\nsg25\\ng3\\n(g7\\nS\\'L\\\\x9e\\\\xbc;S\\\\x19X@\\'\\np1302\\ntp1303\\nRp1304\\nsg29\\nI0\\nsa(dp1305\\ng16\\ng3\\n(g7\\nS\\'9\\\\x01\\\\xd6\\\\x05\\\\x06\\\\xec\\\\x03@\\'\\np1306\\ntp1307\\nRp1308\\nsg20\\nI600\\nsg21\\ng3\\n(g7\\nS\\'\\\\x9a\\\\x99\\\\x99\\\\x99\\\\x99\\\\x11\\\\xcd@\\'\\np1309\\ntp1310\\nRp1311\\nsg25\\ng3\\n(g7\\nS\\'KK6)q\\\\xffY@\\'\\np1312\\ntp1313\\nRp1314\\nsg29\\nI0\\nsa(dp1315\\ng16\\ng3\\n(g7\\nS\\'\\\\x9b\\\\xdc\\\\xacV\\\\x9b\\\\xf6\\\\x04@\\'\\np1316\\ntp1317\\nRp1318\\nsg20\\nI750\\nsg21\\ng3\\n(g7\\nS\\'\\\\x9a\\\\x99\\\\x99\\\\x999\\\\\\\\\\\\xcf@\\'\\np1319\\ntp1320\\nRp1321\\nsg25\\ng3\\n(g7\\nS\\'\\\\x91\\\\xaf\\\\xf0S/\\\\x12\\\\\\\\@\\'\\np1322\\ntp1323\\nRp1324\\nsg29\\nI0\\nsa(dp1325\\ng16\\ng3\\n(g7\\nS\\'\\\\x98\\\\xb5h0\\\\xd8o\\\\x06@\\'\\np1326\\ntp1327\\nRp1328\\nsg20\\nI1000\\nsg21\\ng3\\n(g7\\nS\\'\\\\xcd\\\\xcc\\\\xcc\\\\xcc\\\\xec\"\\\\xd1@\\'\\np1329\\ntp1330\\nRp1331\\nsg25\\ng3\\n(g7\\nS\\'\\\\x89\\\\xacg\\\\x0f\\\\xb3e_@\\'\\np1332\\ntp1333\\nRp1334\\nsg29\\nI0\\nsa(dp1335\\ng16\\ng3\\n(g7\\nS\"\\\\x98\\\\xdd\\'\\\\xda\\\\x88\\\\xbc\\\\x06@\"\\np1336\\ntp1337\\nRp1338\\nsg20\\nI1250\\nsg21\\ng3\\n(g7\\nS\\'\\\\xcd\\\\xcc\\\\xcc\\\\xcc\\\\xec\\\\x17\\\\xd2@\\'\\np1339\\ntp1340\\nRp1341\\nsg25\\ng3\\n(g7\\nS\\'\\\\x164\\\\xf9\\\\x9e\\\\xa0\\\\x87`@\\'\\np1342\\ntp1343\\nRp1344\\nsg29\\nI0\\nsa(dp1345\\ng16\\ng3\\n(g7\\nS\\'\\\\x8b\\\\x94-\\\\xdcs\\\\x93\\\\x06@\\'\\np1346\\ntp1347\\nRp1348\\nsg20\\nI1500\\nsg21\\ng3\\n(g7\\nS\\'\\\\x00\\\\x00\\\\x00\\\\x00P\\\\xf9\\\\xd2@\\'\\np1349\\ntp1350\\nRp1351\\nsg25\\ng3\\n(g7\\nS\\'\\\\xbb?3\\\\xf6\\\\xa3da@\\'\\np1352\\ntp1353\\nRp1354\\nsg29\\nI0\\nsa(dp1355\\ng16\\ng3\\n(g7\\nS\\'5\\\\xa4Z\\\\x02\\\\xd5\\\\x8f\\\\x08@\\'\\np1356\\ntp1357\\nRp1358\\nsg20\\nI2000\\nsg21\\ng3\\n(g7\\nS\\'33333\\\\xe4\\\\xd4@\\'\\np1359\\ntp1360\\nRp1361\\nsg25\\ng3\\n(g7\\nS\\'%X\\\\xb0i\\\\x1cec@\\'\\np1362\\ntp1363\\nRp1364\\nsg29\\nI0\\nsasa.'"
      ]
     },
     "execution_count": 19,
     "metadata": {},
     "output_type": "execute_result"
    }
   ],
   "source": [
    "saved = pickle.dumps(results)\n",
    "saved"
   ]
  },
  {
   "cell_type": "code",
   "execution_count": 21,
   "metadata": {
    "collapsed": false
   },
   "outputs": [],
   "source": [
    "results = pickle.loads(saved)"
   ]
  },
  {
   "cell_type": "markdown",
   "metadata": {},
   "source": [
    "# Raw Results"
   ]
  },
  {
   "cell_type": "code",
   "execution_count": 7,
   "metadata": {
    "collapsed": false
   },
   "outputs": [
    {
     "name": "stdout",
     "output_type": "stream",
     "text": [
      "Populating the interactive namespace from numpy and matplotlib\n"
     ]
    }
   ],
   "source": [
    "%pylab inline"
   ]
  },
  {
   "cell_type": "markdown",
   "metadata": {},
   "source": [
    "### MPL Log-log of E(pi) vs N"
   ]
  },
  {
   "cell_type": "code",
   "execution_count": 8,
   "metadata": {
    "collapsed": false,
    "scrolled": true
   },
   "outputs": [
    {
     "data": {
      "image/png": "[encoded data removed]",
      "text/plain": [
       "<matplotlib.figure.Figure at 0x7ff9e9ad0>"
      ]
     },
     "metadata": {},
     "output_type": "display_data"
    }
   ],
   "source": [
    "plt.figure()\n",
    "\n",
    "color = plt.cm.rainbow(np.linspace(0,1,len(results)))\n",
    "\n",
    "for i, result in enumerate(results):\n",
    "    ecc = result['eccentricity']   \n",
    "    x = []\n",
    "    y = []\n",
    "#     labels.append('e='+str(ecc))\n",
    "\n",
    "    for sample in result['samples']:\n",
    "        x.append(sample['sample_size'])\n",
    "        y.append(sample['E_of_pi'])\n",
    "\n",
    "    plt.plot(x, y, 'x', color=color[i], label='e='+str(ecc), ms=6)\n",
    "\n",
    "plt.legend(loc='upper center', bbox_to_anchor=(0.5, -0.5), fancybox=True, ncol=5)\n",
    "#         print sample['sample_size'], sample['E_of_pi']\n",
    "\n",
    "ax = plt.gca()\n",
    "ax.set_yscale('log')\n",
    "ax.set_xscale('log')\n",
    "\n",
    "plt.xlabel('Log Sample Size')\n",
    "plt.ylabel('Log E(pi)')\n",
    "plt.show()"
   ]
  },
  {
   "cell_type": "markdown",
   "metadata": {},
   "source": [
    "### Log-log of E(pi) vs N"
   ]
  },
  {
   "cell_type": "code",
   "execution_count": 14,
   "metadata": {
    "collapsed": false
   },
   "outputs": [
    {
     "data": {
      "image/png": "[encoded data removed]",
      "text/plain": [
       "<matplotlib.figure.Figure at 0x800973a10>"
      ]
     },
     "metadata": {},
     "output_type": "display_data"
    }
   ],
   "source": [
    "plt.figure()\n",
    "\n",
    "color = plt.cm.rainbow(np.linspace(0,1,len(results)))\n",
    "\n",
    "for i, result in enumerate(results):\n",
    "    ecc = result['eccentricity']   \n",
    "    x = []\n",
    "    y = []\n",
    "#     labels.append('e='+str(ecc))\n",
    "\n",
    "    for sample in result['samples']:\n",
    "        x.append(np.log10(sample['sample_size']))\n",
    "        y.append(np.log10(sample['E_of_pi']))\n",
    "\n",
    "    plt.plot(x, y, 'x', color=color[i], label='e='+str(ecc), ms=6)\n",
    "\n",
    "plt.legend(loc='upper center', bbox_to_anchor=(0.5, -0.5), fancybox=True, ncol=5)\n",
    "#         print sample['sample_size'], sample['E_of_pi']\n",
    "\n",
    "ax = plt.gca()\n",
    "\n",
    "\n",
    "plt.xlabel('Log Sample Size')\n",
    "plt.ylabel('Log E(pi)')\n",
    "plt.show()"
   ]
  },
  {
   "cell_type": "markdown",
   "metadata": {},
   "source": [
    "### MPL log-log of S vs N"
   ]
  },
  {
   "cell_type": "code",
   "execution_count": 13,
   "metadata": {
    "collapsed": false,
    "scrolled": true
   },
   "outputs": [
    {
     "data": {
      "image/png": "[encoded data removed]",
      "text/plain": [
       "<matplotlib.figure.Figure at 0x802f10150>"
      ]
     },
     "metadata": {},
     "output_type": "display_data"
    }
   ],
   "source": [
    "plt.figure()\n",
    "\n",
    "color = plt.cm.rainbow(np.linspace(0,1,len(results)))\n",
    "\n",
    "for i, result in enumerate(results):\n",
    "    ecc = result['eccentricity']   \n",
    "    x = []\n",
    "    y = []\n",
    "#     labels.append('e='+str(ecc))\n",
    "\n",
    "    for sample in result['samples']:\n",
    "        x.append(sample['sample_size'])\n",
    "        y.append(sample['S'])\n",
    "\n",
    "    plt.plot(x, y, 'x', color=color[i], label='e='+str(ecc), ms=6)\n",
    "\n",
    "plt.legend(loc='upper center', bbox_to_anchor=(0.5, -0.5), fancybox=True, ncol=5)\n",
    "#         print sample['sample_size'], sample['E_of_pi']\n",
    "\n",
    "ax = plt.gca()\n",
    "ax.set_yscale('log')\n",
    "ax.set_xscale('log')\n",
    "\n",
    "plt.xlabel('Log Sample Size')\n",
    "plt.ylabel('Log Segregating Sites, S')\n",
    "plt.show()"
   ]
  },
  {
   "cell_type": "markdown",
   "metadata": {},
   "source": [
    "### Log-Log of S vs N"
   ]
  },
  {
   "cell_type": "code",
   "execution_count": 10,
   "metadata": {
    "collapsed": false
   },
   "outputs": [
    {
     "data": {
      "image/png": "[encoded data removed]",
      "text/plain": [
       "<matplotlib.figure.Figure at 0x80064a2d0>"
      ]
     },
     "metadata": {},
     "output_type": "display_data"
    }
   ],
   "source": [
    "plt.figure()\n",
    "\n",
    "color = plt.cm.rainbow(np.linspace(0,1,len(results)))\n",
    "\n",
    "for i, result in enumerate(results):\n",
    "    ecc = result['eccentricity']   \n",
    "    x = []\n",
    "    y = []\n",
    "#     labels.append('e='+str(ecc))\n",
    "\n",
    "    for sample in result['samples']:\n",
    "        x.append(np.log10(sample['sample_size']))\n",
    "        y.append(np.log10(sample['S']))\n",
    "\n",
    "    plt.plot(x, y, 'x', color=color[i], label='e='+str(ecc), ms=6)\n",
    "\n",
    "plt.legend(loc='upper center', bbox_to_anchor=(0.5, -0.5), fancybox=True, ncol=5)\n",
    "#         print sample['sample_size'], sample['E_of_pi']\n",
    "\n",
    "\n",
    "plt.xlabel('Log Sample Size')\n",
    "plt.ylabel('Log Segregating Sites, S')\n",
    "plt.show()"
   ]
  },
  {
   "cell_type": "markdown",
   "metadata": {},
   "source": [
    "### E(pi) vs N"
   ]
  },
  {
   "cell_type": "code",
   "execution_count": 11,
   "metadata": {
    "collapsed": false
   },
   "outputs": [
    {
     "data": {
      "image/png": "[encoded data removed]",
      "text/plain": [
       "<matplotlib.figure.Figure at 0x800a42a50>"
      ]
     },
     "metadata": {},
     "output_type": "display_data"
    }
   ],
   "source": [
    "plt.figure()\n",
    "\n",
    "color = plt.cm.rainbow(np.linspace(0,1,len(results)))\n",
    "\n",
    "for i, result in enumerate(results):\n",
    "    ecc = result['eccentricity']   \n",
    "    x = []\n",
    "    y = []\n",
    "#     labels.append('e='+str(ecc))\n",
    "\n",
    "    for sample in result['samples']:\n",
    "        x.append(sample['sample_size'])\n",
    "        y.append(sample['E_of_pi'])\n",
    "\n",
    "    plt.plot(x, y, 'x', color=color[i], label='e='+str(ecc), ms=6)\n",
    "\n",
    "plt.legend(loc='upper center', bbox_to_anchor=(0.5, -0.5), fancybox=True, ncol=5)\n",
    "#         print sample['sample_size'], sample['E_of_pi']\n",
    "\n",
    "ax = plt.gca()\n",
    "\n",
    "\n",
    "plt.xlabel('Sample Size')\n",
    "plt.ylabel('E(pi)')\n",
    "plt.show()"
   ]
  },
  {
   "cell_type": "markdown",
   "metadata": {},
   "source": [
    "### S vs N"
   ]
  },
  {
   "cell_type": "code",
   "execution_count": 12,
   "metadata": {
    "collapsed": false
   },
   "outputs": [
    {
     "data": {
      "image/png": "[encoded data removed]",
      "text/plain": [
       "<matplotlib.figure.Figure at 0x800b42110>"
      ]
     },
     "metadata": {},
     "output_type": "display_data"
    }
   ],
   "source": [
    "plt.figure()\n",
    "\n",
    "color = plt.cm.rainbow(np.linspace(0,1,len(results)))\n",
    "\n",
    "for i, result in enumerate(results):\n",
    "    ecc = result['eccentricity']   \n",
    "    x = []\n",
    "    y = []\n",
    "#     labels.append('e='+str(ecc))\n",
    "\n",
    "    for sample in result['samples']:\n",
    "        x.append(sample['sample_size'])\n",
    "        y.append(sample['S'])\n",
    "\n",
    "    plt.plot(x, y, 'x', color=color[i], label='e='+str(ecc), ms=6)\n",
    "\n",
    "plt.legend(loc='upper center', bbox_to_anchor=(0.5, -0.5), fancybox=True, ncol=5)\n",
    "#         print sample['sample_size'], sample['E_of_pi']\n",
    "\n",
    "\n",
    "plt.xlabel('Sample Size')\n",
    "plt.ylabel('Segregating Sites, S')\n",
    "plt.show()"
   ]
  },
  {
   "cell_type": "code",
   "execution_count": 15,
   "metadata": {
    "collapsed": false
   },
   "outputs": [
    {
     "data": {
      "image/png": "[encoded data removed]",
      "text/plain": [
       "<matplotlib.figure.Figure at 0x8032069d0>"
      ]
     },
     "metadata": {},
     "output_type": "display_data"
    }
   ],
   "source": [
    "plt.figure()\n",
    "\n",
    "color = plt.cm.rainbow(np.linspace(0,1,len(results)))\n",
    "\n",
    "for i, result in enumerate(results):\n",
    "    ecc = result['eccentricity']   \n",
    "    x = []\n",
    "    y = []\n",
    "#     labels.append('e='+str(ecc))\n",
    "\n",
    "    for sample in result['samples']:\n",
    "        x.append(sample['d_0'])\n",
    "        y.append(sample['E_of_pi'])\n",
    "\n",
    "    plt.plot(x, y, 'x', color=color[i], label='e='+str(ecc), ms=6)\n",
    "\n",
    "plt.legend(loc='upper center', bbox_to_anchor=(0.5, -0.5), fancybox=True, ncol=5)\n",
    "#         print sample['sample_size'], sample['E_of_pi']\n",
    "\n",
    "ax = plt.gca()\n",
    "\n",
    "\n",
    "plt.xlabel('Mean pairwise distance')\n",
    "plt.ylabel('E(pi)')\n",
    "plt.show()"
   ]
  },
  {
   "cell_type": "code",
   "execution_count": 16,
   "metadata": {
    "collapsed": false
   },
   "outputs": [
    {
     "data": {
      "image/png": "[encoded data removed]",
      "text/plain": [
       "<matplotlib.figure.Figure at 0x803baf950>"
      ]
     },
     "metadata": {},
     "output_type": "display_data"
    }
   ],
   "source": [
    "plt.figure()\n",
    "\n",
    "color = plt.cm.rainbow(np.linspace(0,1,len(results)))\n",
    "\n",
    "for i, result in enumerate(results):\n",
    "    ecc = result['eccentricity']   \n",
    "    x = []\n",
    "    y = []\n",
    "#     labels.append('e='+str(ecc))\n",
    "\n",
    "    for sample in result['samples']:\n",
    "        x.append(sample['d_0'])\n",
    "        y.append(sample['S'])\n",
    "\n",
    "    plt.plot(x, y, 'x', color=color[i], label='e='+str(ecc), ms=6)\n",
    "\n",
    "plt.legend(loc='upper center', bbox_to_anchor=(0.5, -0.5), fancybox=True, ncol=5)\n",
    "#         print sample['sample_size'], sample['E_of_pi']\n",
    "\n",
    "ax = plt.gca()\n",
    "\n",
    "\n",
    "plt.xlabel('Mean pairwise distance')\n",
    "plt.ylabel('Segregating Sites, S')\n",
    "plt.show()"
   ]
  },
  {
   "cell_type": "code",
   "execution_count": null,
   "metadata": {
    "collapsed": true
   },
   "outputs": [],
   "source": []
  },
  {
   "cell_type": "code",
   "execution_count": null,
   "metadata": {
    "collapsed": true
   },
   "outputs": [],
   "source": []
  },
  {
   "cell_type": "code",
   "execution_count": 1,
   "metadata": {
    "collapsed": false
   },
   "outputs": [
    {
     "name": "stdout",
     "output_type": "stream",
     "text": [
      "Populating the interactive namespace from numpy and matplotlib\n"
     ]
    }
   ],
   "source": [
    "%pylab inline"
   ]
  },
  {
   "cell_type": "code",
   "execution_count": 2,
   "metadata": {
    "collapsed": true
   },
   "outputs": [],
   "source": [
    "from cc3dtools.PostProcess import distance_between_cells, mean_distances_between_cells\n",
    "from cc3dtools.Cell import Cell"
   ]
  },
  {
   "cell_type": "code",
   "execution_count": 3,
   "metadata": {
    "collapsed": false
   },
   "outputs": [],
   "source": [
    "cells = []\n",
    "for i in range(1000):\n",
    "    cells.append( Cell(i, *np.random.random(size=3)*1000) )\n",
    "    "
   ]
  },
  {
   "cell_type": "code",
   "execution_count": 13,
   "metadata": {
    "collapsed": false
   },
   "outputs": [
    {
     "data": {
      "text/plain": [
       "673.14031523887434"
      ]
     },
     "execution_count": 13,
     "metadata": {},
     "output_type": "execute_result"
    }
   ],
   "source": [
    "mean_distances_between_cells(cells, subsample_size=1000)"
   ]
  },
  {
   "cell_type": "code",
   "execution_count": 5,
   "metadata": {
    "collapsed": false
   },
   "outputs": [
    {
     "data": {
      "text/plain": [
       "[Cell(id=329, x=598.36765537537076, y=436.65862627711147, z=46.642901274889347, type=0, initial=0),\n",
       " Cell(id=693, x=463.8500350407453, y=582.94834132023027, z=713.33502684417101, type=0, initial=0),\n",
       " Cell(id=354, x=472.30114691090586, y=325.27564376071695, z=892.95157556352422, type=0, initial=0),\n",
       " Cell(id=412, x=342.31787594628139, y=978.52682180865736, z=760.7883434717096, type=0, initial=0)]"
      ]
     },
     "execution_count": 5,
     "metadata": {},
     "output_type": "execute_result"
    }
   ],
   "source": []
  },
  {
   "cell_type": "code",
   "execution_count": null,
   "metadata": {
    "collapsed": true
   },
   "outputs": [],
   "source": []
  },
  {
   "cell_type": "code",
   "execution_count": 27,
   "metadata": {
    "collapsed": false,
    "scrolled": true
   },
   "outputs": [
    {
     "data": {
      "text/plain": [
       "True"
      ]
     },
     "execution_count": 27,
     "metadata": {},
     "output_type": "execute_result"
    }
   ],
   "source": [
    "np.isnan(results[0]['samples'][0]['d_0'])"
   ]
  },
  {
   "cell_type": "code",
   "execution_count": null,
   "metadata": {
    "collapsed": true
   },
   "outputs": [],
   "source": []
  }
 ],
 "metadata": {
  "kernelspec": {
   "display_name": "Python 2",
   "language": "python",
   "name": "python2"
  },
  "language_info": {
   "codemirror_mode": {
    "name": "ipython",
    "version": 2
   },
   "file_extension": ".py",
   "mimetype": "text/x-python",
   "name": "python",
   "nbconvert_exporter": "python",
   "pygments_lexer": "ipython2",
   "version": "2.7.10"
  }
 },
 "nbformat": 4,
 "nbformat_minor": 0
}
