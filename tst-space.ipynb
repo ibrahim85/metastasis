{
 "metadata": {
  "name": "tst-space"
 },
 "nbformat": 3,
 "nbformat_minor": 0,
 "worksheets": [
  {
   "cells": [
    {
     "cell_type": "code",
     "collapsed": false,
     "input": [
      "from cc3dtools.PostProcess import SpacePlot\n",
      "from cc3dtools.Lineage import MultiLineage, lineage_bfs"
     ],
     "language": "python",
     "metadata": {},
     "outputs": [],
     "prompt_number": 1
    },
    {
     "cell_type": "code",
     "collapsed": false,
     "input": [
      "sp = SpacePlot(start_file='./data2/start_cells_Mon_Jun_15_15:18:22_2015.csv', end_file='./data2/finish_cells_Mon_Jun_15_15:18:22_2015.csv', projection='2d')"
     ],
     "language": "python",
     "metadata": {},
     "outputs": [],
     "prompt_number": 2
    },
    {
     "cell_type": "code",
     "collapsed": false,
     "input": [
      "#sp.plot_all()"
     ],
     "language": "python",
     "metadata": {},
     "outputs": [],
     "prompt_number": 3
    },
    {
     "cell_type": "code",
     "collapsed": false,
     "input": [
      "ml = MultiLineage(file_name='./data2/division_events_Mon_Jun_15_15:18:22_2015.csv')"
     ],
     "language": "python",
     "metadata": {},
     "outputs": [],
     "prompt_number": 4
    },
    {
     "cell_type": "code",
     "collapsed": false,
     "input": [],
     "language": "python",
     "metadata": {},
     "outputs": [],
     "prompt_number": 4
    },
    {
     "cell_type": "code",
     "collapsed": false,
     "input": [
      "for lineage in ml.lineages:\n",
      "    levels = lineage_bfs(lineage['lineage'])\n",
      "    for _, level in levels.items():\n",
      "        sp.plot_selected(*level)"
     ],
     "language": "python",
     "metadata": {},
     "outputs": [],
     "prompt_number": 5
    },
    {
     "cell_type": "code",
     "collapsed": false,
     "input": [],
     "language": "python",
     "metadata": {},
     "outputs": [],
     "prompt_number": 6
    },
    {
     "cell_type": "code",
     "collapsed": false,
     "input": [
      "# 3d Plot for when we have 3D tumors\n",
      "#spatial_plot(start_file='./data2/start_cells_Mon_Jun_15_15:18:22_2015.csv', end_file='./data2/finish_cells_Mon_Jun_15_15:18:22_2015.csv', projection='3d')"
     ],
     "language": "python",
     "metadata": {},
     "outputs": [],
     "prompt_number": 2
    },
    {
     "cell_type": "code",
     "collapsed": false,
     "input": [
      "# 2d plot for when we have 2D tumors\n",
      "#spatial_plot(start_file='./data2/start_cells_Mon_Jun_15_15:18:22_2015.csv', end_file='./data2/finish_cells_Mon_Jun_15_15:18:22_2015.csv', projection='2d')"
     ],
     "language": "python",
     "metadata": {},
     "outputs": [],
     "prompt_number": 3
    },
    {
     "cell_type": "code",
     "collapsed": false,
     "input": [],
     "language": "python",
     "metadata": {},
     "outputs": [],
     "prompt_number": 5
    },
    {
     "cell_type": "code",
     "collapsed": false,
     "input": [],
     "language": "python",
     "metadata": {},
     "outputs": [],
     "prompt_number": 5
    },
    {
     "cell_type": "code",
     "collapsed": false,
     "input": [],
     "language": "python",
     "metadata": {},
     "outputs": [],
     "prompt_number": 5
    },
    {
     "cell_type": "code",
     "collapsed": false,
     "input": [],
     "language": "python",
     "metadata": {},
     "outputs": []
    }
   ],
   "metadata": {}
  }
 ]
}