{
 "metadata": {
  "name": "tst-phenotypes.ipynb"
 },
 "nbformat": 3,
 "nbformat_minor": 0,
 "worksheets": [
  {
   "cells": [
    {
     "cell_type": "heading",
     "level": 3,
     "metadata": {},
     "source": [
      "Testing of PhenotpyeEvaluator class"
     ]
    },
    {
     "cell_type": "code",
     "collapsed": false,
     "input": [
      "## Create some genomes to play around with\n",
      "from cc3dtools.Genome import Genome\n",
      "genomes = []\n",
      "for x in range(20):\n",
      "    genomes.append( Genome ( mutation_rate = 178, name = x, genome_order=10 ) )\n",
      "for g in genomes:\n",
      "    for x in range(100):\n",
      "        g.mutate()    "
     ],
     "language": "python",
     "metadata": {},
     "outputs": [],
     "prompt_number": 1
    },
    {
     "cell_type": "code",
     "collapsed": false,
     "input": [
      "phenotypes = {\n",
      "              'deleterious' : (0,0.000001),\n",
      "              'cancerous' : (0.000001, 0.0015),\n",
      "              'neutral': (0.0015, 1)\n",
      "              }"
     ],
     "language": "python",
     "metadata": {},
     "outputs": [],
     "prompt_number": 2
    },
    {
     "cell_type": "code",
     "collapsed": false,
     "input": [
      "from cc3dtools.Phenotype import PhenotypeEvaluator"
     ],
     "language": "python",
     "metadata": {},
     "outputs": [],
     "prompt_number": 3
    },
    {
     "cell_type": "code",
     "collapsed": false,
     "input": [
      "pe = PhenotypeEvaluator(phenotypes)"
     ],
     "language": "python",
     "metadata": {},
     "outputs": [],
     "prompt_number": 4
    },
    {
     "cell_type": "code",
     "collapsed": false,
     "input": [
      "total = {}\n",
      "for g in genomes:\n",
      "    total[g] = pe.evaluate(g)"
     ],
     "language": "python",
     "metadata": {},
     "outputs": [],
     "prompt_number": 5
    },
    {
     "cell_type": "code",
     "collapsed": false,
     "input": [
      "total"
     ],
     "language": "python",
     "metadata": {},
     "outputs": [
      {
       "output_type": "pyout",
       "prompt_number": 6,
       "text": [
        "{<cc3dtools.Genome.Genome at 0x10f31fe10>: Counter({'neutral': 18000, 'cancerous': 24}),\n",
        " <cc3dtools.Genome.Genome at 0x10f31fe50>: Counter({'neutral': 17704, 'cancerous': 32}),\n",
        " <cc3dtools.Genome.Genome at 0x10f31fe90>: Counter({'neutral': 17624, 'cancerous': 21}),\n",
        " <cc3dtools.Genome.Genome at 0x10f31fed0>: Counter({'neutral': 17841, 'cancerous': 34}),\n",
        " <cc3dtools.Genome.Genome at 0x10f31ff10>: Counter({'neutral': 17960, 'cancerous': 40}),\n",
        " <cc3dtools.Genome.Genome at 0x10f31ff50>: Counter({'neutral': 17733, 'cancerous': 33}),\n",
        " <cc3dtools.Genome.Genome at 0x10f31ff90>: Counter({'neutral': 17662, 'cancerous': 25}),\n",
        " <cc3dtools.Genome.Genome at 0x10f31ffd0>: Counter({'neutral': 17888, 'cancerous': 29}),\n",
        " <cc3dtools.Genome.Genome at 0x10f32f050>: Counter({'neutral': 17710, 'cancerous': 24}),\n",
        " <cc3dtools.Genome.Genome at 0x10f32f090>: Counter({'neutral': 17856, 'cancerous': 14}),\n",
        " <cc3dtools.Genome.Genome at 0x10f32f0d0>: Counter({'neutral': 17878, 'cancerous': 31}),\n",
        " <cc3dtools.Genome.Genome at 0x10f32f110>: Counter({'neutral': 17787, 'cancerous': 29}),\n",
        " <cc3dtools.Genome.Genome at 0x10f32f150>: Counter({'neutral': 17720, 'cancerous': 29}),\n",
        " <cc3dtools.Genome.Genome at 0x10f32f190>: Counter({'neutral': 17847, 'cancerous': 26}),\n",
        " <cc3dtools.Genome.Genome at 0x10f32f1d0>: Counter({'neutral': 17830, 'cancerous': 24}),\n",
        " <cc3dtools.Genome.Genome at 0x10f32f210>: Counter({'neutral': 17955, 'cancerous': 27}),\n",
        " <cc3dtools.Genome.Genome at 0x10f32f250>: Counter({'neutral': 17907, 'cancerous': 37}),\n",
        " <cc3dtools.Genome.Genome at 0x10f32f290>: Counter({'neutral': 17856, 'cancerous': 40}),\n",
        " <cc3dtools.Genome.Genome at 0x10f32f2d0>: Counter({'neutral': 17756, 'cancerous': 28}),\n",
        " <cc3dtools.Genome.Genome at 0x10f32f310>: Counter({'neutral': 17704, 'cancerous': 32})}"
       ]
      }
     ],
     "prompt_number": 6
    },
    {
     "cell_type": "code",
     "collapsed": false,
     "input": [
      "for x in range(10000):\n",
      "    genomes[1].mutate()"
     ],
     "language": "python",
     "metadata": {},
     "outputs": [],
     "prompt_number": 7
    },
    {
     "cell_type": "code",
     "collapsed": false,
     "input": [
      "pe.evaluate(genomes[1])"
     ],
     "language": "python",
     "metadata": {},
     "outputs": [
      {
       "output_type": "pyout",
       "prompt_number": 8,
       "text": [
        "Counter({'neutral': 1793800, 'cancerous': 2747, 'deleterious': 2})"
       ]
      }
     ],
     "prompt_number": 8
    },
    {
     "cell_type": "code",
     "collapsed": false,
     "input": [
      "from cc3dtools.Phenotype import Phenotype"
     ],
     "language": "python",
     "metadata": {},
     "outputs": [],
     "prompt_number": 9
    },
    {
     "cell_type": "code",
     "collapsed": false,
     "input": [
      "p = Phenotype(phenotypes)\n",
      "p.get_counts()"
     ],
     "language": "python",
     "metadata": {},
     "outputs": [
      {
       "output_type": "pyout",
       "prompt_number": 10,
       "text": [
        "Counter({'deleterious': 0, 'neutral': 0, 'cancerous': 0})"
       ]
      }
     ],
     "prompt_number": 10
    },
    {
     "cell_type": "code",
     "collapsed": false,
     "input": [
      "for m in genomes[1].get_mutated_loci():\n",
      "    p.evaluate(m)"
     ],
     "language": "python",
     "metadata": {},
     "outputs": [],
     "prompt_number": 11
    },
    {
     "cell_type": "code",
     "collapsed": false,
     "input": [
      "p.get_counts()"
     ],
     "language": "python",
     "metadata": {},
     "outputs": [
      {
       "output_type": "pyout",
       "prompt_number": 12,
       "text": [
        "Counter({'neutral': 1793800, 'cancerous': 2747, 'deleterious': 2})"
       ]
      }
     ],
     "prompt_number": 12
    },
    {
     "cell_type": "code",
     "collapsed": false,
     "input": [],
     "language": "python",
     "metadata": {},
     "outputs": []
    }
   ],
   "metadata": {}
  }
 ]
}